{
 "cells": [
  {
   "cell_type": "markdown",
   "metadata": {},
   "source": [
    "# Определение стоимости автомобилей"
   ]
  },
  {
   "cell_type": "markdown",
   "metadata": {},
   "source": [
    "Сервис по продаже автомобилей с пробегом разрабатывает приложение для привлечения новых клиентов. В нём можно быстро узнать рыночную стоимость своего автомобиля. В вашем распоряжении исторические данные: технические характеристики, комплектации и цены автомобилей. Вам нужно построить модель для определения стоимости. \n",
    "\n",
    "Заказчику важны:\n",
    "\n",
    "- качество предсказания;\n",
    "- скорость предсказания;\n",
    "- время обучения."
   ]
  },
  {
   "cell_type": "markdown",
   "metadata": {},
   "source": [
    "# План работ"
   ]
  },
  {
   "cell_type": "markdown",
   "metadata": {},
   "source": [
    "1) Загрузим и изучим данные. Заполним пропущенные значения и обработаем аномалии в столбцах. Если среди признаков имеются неинформативные, удалим их.\n",
    "\n",
    "2) Подготовим выборки для обучения моделей.\n",
    "\n",
    "3) Обучим разные модели, одна из которых — LightGBM, как минимум одна — не бустинг. Для каждой модели попробуем разные гиперпараметры.\n",
    "\n",
    "4) Проанализируем время обучения, время предсказания и качество моделей.\n",
    "\n",
    "5) Опираясь на критерии заказчика, выберем лучшую модель, проверим её качество на тестовой выборке."
   ]
  },
  {
   "cell_type": "markdown",
   "metadata": {},
   "source": [
    "## Подготовка данных"
   ]
  },
  {
   "cell_type": "markdown",
   "metadata": {},
   "source": [
    "### Изучим данные"
   ]
  },
  {
   "cell_type": "code",
   "execution_count": 1,
   "metadata": {},
   "outputs": [],
   "source": [
    "import pandas as pd \n",
    "import lightgbm\n",
    "from sklearn.model_selection import train_test_split, GridSearchCV\n",
    "from sklearn.preprocessing import StandardScaler, OrdinalEncoder\n",
    "from sklearn.metrics import mean_squared_error, make_scorer \n",
    "from sklearn.linear_model import LinearRegression\n",
    "from sklearn.tree import DecisionTreeRegressor\n",
    "from sklearn.ensemble import RandomForestRegressor\n",
    "from catboost import CatBoostRegressor\n",
    "from lightgbm import LGBMRegressor\n",
    "import time"
   ]
  },
  {
   "cell_type": "code",
   "execution_count": 2,
   "metadata": {},
   "outputs": [],
   "source": [
    "df = pd.read_csv('/datasets/autos.csv')"
   ]
  },
  {
   "cell_type": "code",
   "execution_count": 3,
   "metadata": {},
   "outputs": [
    {
     "data": {
      "text/html": [
       "<div>\n",
       "<style scoped>\n",
       "    .dataframe tbody tr th:only-of-type {\n",
       "        vertical-align: middle;\n",
       "    }\n",
       "\n",
       "    .dataframe tbody tr th {\n",
       "        vertical-align: top;\n",
       "    }\n",
       "\n",
       "    .dataframe thead th {\n",
       "        text-align: right;\n",
       "    }\n",
       "</style>\n",
       "<table border=\"1\" class=\"dataframe\">\n",
       "  <thead>\n",
       "    <tr style=\"text-align: right;\">\n",
       "      <th></th>\n",
       "      <th>DateCrawled</th>\n",
       "      <th>Price</th>\n",
       "      <th>VehicleType</th>\n",
       "      <th>RegistrationYear</th>\n",
       "      <th>Gearbox</th>\n",
       "      <th>Power</th>\n",
       "      <th>Model</th>\n",
       "      <th>Kilometer</th>\n",
       "      <th>RegistrationMonth</th>\n",
       "      <th>FuelType</th>\n",
       "      <th>Brand</th>\n",
       "      <th>Repaired</th>\n",
       "      <th>DateCreated</th>\n",
       "      <th>NumberOfPictures</th>\n",
       "      <th>PostalCode</th>\n",
       "      <th>LastSeen</th>\n",
       "    </tr>\n",
       "  </thead>\n",
       "  <tbody>\n",
       "    <tr>\n",
       "      <th>0</th>\n",
       "      <td>2016-03-24 11:52:17</td>\n",
       "      <td>480</td>\n",
       "      <td>NaN</td>\n",
       "      <td>1993</td>\n",
       "      <td>manual</td>\n",
       "      <td>0</td>\n",
       "      <td>golf</td>\n",
       "      <td>150000</td>\n",
       "      <td>0</td>\n",
       "      <td>petrol</td>\n",
       "      <td>volkswagen</td>\n",
       "      <td>NaN</td>\n",
       "      <td>2016-03-24 00:00:00</td>\n",
       "      <td>0</td>\n",
       "      <td>70435</td>\n",
       "      <td>2016-04-07 03:16:57</td>\n",
       "    </tr>\n",
       "    <tr>\n",
       "      <th>1</th>\n",
       "      <td>2016-03-24 10:58:45</td>\n",
       "      <td>18300</td>\n",
       "      <td>coupe</td>\n",
       "      <td>2011</td>\n",
       "      <td>manual</td>\n",
       "      <td>190</td>\n",
       "      <td>NaN</td>\n",
       "      <td>125000</td>\n",
       "      <td>5</td>\n",
       "      <td>gasoline</td>\n",
       "      <td>audi</td>\n",
       "      <td>yes</td>\n",
       "      <td>2016-03-24 00:00:00</td>\n",
       "      <td>0</td>\n",
       "      <td>66954</td>\n",
       "      <td>2016-04-07 01:46:50</td>\n",
       "    </tr>\n",
       "    <tr>\n",
       "      <th>2</th>\n",
       "      <td>2016-03-14 12:52:21</td>\n",
       "      <td>9800</td>\n",
       "      <td>suv</td>\n",
       "      <td>2004</td>\n",
       "      <td>auto</td>\n",
       "      <td>163</td>\n",
       "      <td>grand</td>\n",
       "      <td>125000</td>\n",
       "      <td>8</td>\n",
       "      <td>gasoline</td>\n",
       "      <td>jeep</td>\n",
       "      <td>NaN</td>\n",
       "      <td>2016-03-14 00:00:00</td>\n",
       "      <td>0</td>\n",
       "      <td>90480</td>\n",
       "      <td>2016-04-05 12:47:46</td>\n",
       "    </tr>\n",
       "    <tr>\n",
       "      <th>3</th>\n",
       "      <td>2016-03-17 16:54:04</td>\n",
       "      <td>1500</td>\n",
       "      <td>small</td>\n",
       "      <td>2001</td>\n",
       "      <td>manual</td>\n",
       "      <td>75</td>\n",
       "      <td>golf</td>\n",
       "      <td>150000</td>\n",
       "      <td>6</td>\n",
       "      <td>petrol</td>\n",
       "      <td>volkswagen</td>\n",
       "      <td>no</td>\n",
       "      <td>2016-03-17 00:00:00</td>\n",
       "      <td>0</td>\n",
       "      <td>91074</td>\n",
       "      <td>2016-03-17 17:40:17</td>\n",
       "    </tr>\n",
       "    <tr>\n",
       "      <th>4</th>\n",
       "      <td>2016-03-31 17:25:20</td>\n",
       "      <td>3600</td>\n",
       "      <td>small</td>\n",
       "      <td>2008</td>\n",
       "      <td>manual</td>\n",
       "      <td>69</td>\n",
       "      <td>fabia</td>\n",
       "      <td>90000</td>\n",
       "      <td>7</td>\n",
       "      <td>gasoline</td>\n",
       "      <td>skoda</td>\n",
       "      <td>no</td>\n",
       "      <td>2016-03-31 00:00:00</td>\n",
       "      <td>0</td>\n",
       "      <td>60437</td>\n",
       "      <td>2016-04-06 10:17:21</td>\n",
       "    </tr>\n",
       "  </tbody>\n",
       "</table>\n",
       "</div>"
      ],
      "text/plain": [
       "           DateCrawled  Price VehicleType  RegistrationYear Gearbox  Power  \\\n",
       "0  2016-03-24 11:52:17    480         NaN              1993  manual      0   \n",
       "1  2016-03-24 10:58:45  18300       coupe              2011  manual    190   \n",
       "2  2016-03-14 12:52:21   9800         suv              2004    auto    163   \n",
       "3  2016-03-17 16:54:04   1500       small              2001  manual     75   \n",
       "4  2016-03-31 17:25:20   3600       small              2008  manual     69   \n",
       "\n",
       "   Model  Kilometer  RegistrationMonth  FuelType       Brand Repaired  \\\n",
       "0   golf     150000                  0    petrol  volkswagen      NaN   \n",
       "1    NaN     125000                  5  gasoline        audi      yes   \n",
       "2  grand     125000                  8  gasoline        jeep      NaN   \n",
       "3   golf     150000                  6    petrol  volkswagen       no   \n",
       "4  fabia      90000                  7  gasoline       skoda       no   \n",
       "\n",
       "           DateCreated  NumberOfPictures  PostalCode             LastSeen  \n",
       "0  2016-03-24 00:00:00                 0       70435  2016-04-07 03:16:57  \n",
       "1  2016-03-24 00:00:00                 0       66954  2016-04-07 01:46:50  \n",
       "2  2016-03-14 00:00:00                 0       90480  2016-04-05 12:47:46  \n",
       "3  2016-03-17 00:00:00                 0       91074  2016-03-17 17:40:17  \n",
       "4  2016-03-31 00:00:00                 0       60437  2016-04-06 10:17:21  "
      ]
     },
     "execution_count": 3,
     "metadata": {},
     "output_type": "execute_result"
    }
   ],
   "source": [
    "df.head(5)"
   ]
  },
  {
   "cell_type": "code",
   "execution_count": 4,
   "metadata": {},
   "outputs": [
    {
     "name": "stdout",
     "output_type": "stream",
     "text": [
      "<class 'pandas.core.frame.DataFrame'>\n",
      "RangeIndex: 354369 entries, 0 to 354368\n",
      "Data columns (total 16 columns):\n",
      " #   Column             Non-Null Count   Dtype \n",
      "---  ------             --------------   ----- \n",
      " 0   DateCrawled        354369 non-null  object\n",
      " 1   Price              354369 non-null  int64 \n",
      " 2   VehicleType        316879 non-null  object\n",
      " 3   RegistrationYear   354369 non-null  int64 \n",
      " 4   Gearbox            334536 non-null  object\n",
      " 5   Power              354369 non-null  int64 \n",
      " 6   Model              334664 non-null  object\n",
      " 7   Kilometer          354369 non-null  int64 \n",
      " 8   RegistrationMonth  354369 non-null  int64 \n",
      " 9   FuelType           321474 non-null  object\n",
      " 10  Brand              354369 non-null  object\n",
      " 11  Repaired           283215 non-null  object\n",
      " 12  DateCreated        354369 non-null  object\n",
      " 13  NumberOfPictures   354369 non-null  int64 \n",
      " 14  PostalCode         354369 non-null  int64 \n",
      " 15  LastSeen           354369 non-null  object\n",
      "dtypes: int64(7), object(9)\n",
      "memory usage: 43.3+ MB\n"
     ]
    }
   ],
   "source": [
    "df.info()"
   ]
  },
  {
   "cell_type": "code",
   "execution_count": 5,
   "metadata": {},
   "outputs": [
    {
     "data": {
      "text/plain": [
       "DateCrawled              0\n",
       "Price                    0\n",
       "VehicleType          37490\n",
       "RegistrationYear         0\n",
       "Gearbox              19833\n",
       "Power                    0\n",
       "Model                19705\n",
       "Kilometer                0\n",
       "RegistrationMonth        0\n",
       "FuelType             32895\n",
       "Brand                    0\n",
       "Repaired             71154\n",
       "DateCreated              0\n",
       "NumberOfPictures         0\n",
       "PostalCode               0\n",
       "LastSeen                 0\n",
       "dtype: int64"
      ]
     },
     "execution_count": 5,
     "metadata": {},
     "output_type": "execute_result"
    }
   ],
   "source": [
    "df.isnull().sum()"
   ]
  },
  {
   "cell_type": "markdown",
   "metadata": {},
   "source": [
    "Есть пропуски в колонках с типом кузова, типом КПП, Модели, типом топлива и  была машина в ремонте или нет.\n",
    "\n"
   ]
  },
  {
   "cell_type": "markdown",
   "metadata": {},
   "source": [
    "### Проведем предобработку данных"
   ]
  },
  {
   "cell_type": "markdown",
   "metadata": {},
   "source": [
    "Заполним пропуски значением unknown"
   ]
  },
  {
   "cell_type": "code",
   "execution_count": 6,
   "metadata": {},
   "outputs": [
    {
     "data": {
      "text/plain": [
       "4"
      ]
     },
     "execution_count": 6,
     "metadata": {},
     "output_type": "execute_result"
    }
   ],
   "source": [
    "df.duplicated().sum()"
   ]
  },
  {
   "cell_type": "markdown",
   "metadata": {},
   "source": [
    "В датасете присутствуют 4 дубликата, удалим их сразу"
   ]
  },
  {
   "cell_type": "code",
   "execution_count": 7,
   "metadata": {},
   "outputs": [],
   "source": [
    "df = df.drop_duplicates().reset_index(drop = True)"
   ]
  },
  {
   "cell_type": "markdown",
   "metadata": {},
   "source": [
    "Удалим ненужные для нашей задачи колонки из датасета"
   ]
  },
  {
   "cell_type": "code",
   "execution_count": 8,
   "metadata": {},
   "outputs": [],
   "source": [
    "df = df.drop(['DateCrawled', 'PostalCode', 'LastSeen', 'NumberOfPictures', 'DateCreated'], axis=1)"
   ]
  },
  {
   "cell_type": "code",
   "execution_count": 9,
   "metadata": {},
   "outputs": [
    {
     "data": {
      "text/html": [
       "<div>\n",
       "<style scoped>\n",
       "    .dataframe tbody tr th:only-of-type {\n",
       "        vertical-align: middle;\n",
       "    }\n",
       "\n",
       "    .dataframe tbody tr th {\n",
       "        vertical-align: top;\n",
       "    }\n",
       "\n",
       "    .dataframe thead th {\n",
       "        text-align: right;\n",
       "    }\n",
       "</style>\n",
       "<table border=\"1\" class=\"dataframe\">\n",
       "  <thead>\n",
       "    <tr style=\"text-align: right;\">\n",
       "      <th></th>\n",
       "      <th>Price</th>\n",
       "      <th>RegistrationYear</th>\n",
       "      <th>Power</th>\n",
       "      <th>Kilometer</th>\n",
       "      <th>RegistrationMonth</th>\n",
       "    </tr>\n",
       "  </thead>\n",
       "  <tbody>\n",
       "    <tr>\n",
       "      <th>count</th>\n",
       "      <td>354365.000000</td>\n",
       "      <td>354365.000000</td>\n",
       "      <td>354365.000000</td>\n",
       "      <td>354365.000000</td>\n",
       "      <td>354365.000000</td>\n",
       "    </tr>\n",
       "    <tr>\n",
       "      <th>mean</th>\n",
       "      <td>4416.679830</td>\n",
       "      <td>2004.234481</td>\n",
       "      <td>110.093816</td>\n",
       "      <td>128211.363989</td>\n",
       "      <td>5.714650</td>\n",
       "    </tr>\n",
       "    <tr>\n",
       "      <th>std</th>\n",
       "      <td>4514.176349</td>\n",
       "      <td>90.228466</td>\n",
       "      <td>189.851330</td>\n",
       "      <td>37905.083858</td>\n",
       "      <td>3.726432</td>\n",
       "    </tr>\n",
       "    <tr>\n",
       "      <th>min</th>\n",
       "      <td>0.000000</td>\n",
       "      <td>1000.000000</td>\n",
       "      <td>0.000000</td>\n",
       "      <td>5000.000000</td>\n",
       "      <td>0.000000</td>\n",
       "    </tr>\n",
       "    <tr>\n",
       "      <th>25%</th>\n",
       "      <td>1050.000000</td>\n",
       "      <td>1999.000000</td>\n",
       "      <td>69.000000</td>\n",
       "      <td>125000.000000</td>\n",
       "      <td>3.000000</td>\n",
       "    </tr>\n",
       "    <tr>\n",
       "      <th>50%</th>\n",
       "      <td>2700.000000</td>\n",
       "      <td>2003.000000</td>\n",
       "      <td>105.000000</td>\n",
       "      <td>150000.000000</td>\n",
       "      <td>6.000000</td>\n",
       "    </tr>\n",
       "    <tr>\n",
       "      <th>75%</th>\n",
       "      <td>6400.000000</td>\n",
       "      <td>2008.000000</td>\n",
       "      <td>143.000000</td>\n",
       "      <td>150000.000000</td>\n",
       "      <td>9.000000</td>\n",
       "    </tr>\n",
       "    <tr>\n",
       "      <th>max</th>\n",
       "      <td>20000.000000</td>\n",
       "      <td>9999.000000</td>\n",
       "      <td>20000.000000</td>\n",
       "      <td>150000.000000</td>\n",
       "      <td>12.000000</td>\n",
       "    </tr>\n",
       "  </tbody>\n",
       "</table>\n",
       "</div>"
      ],
      "text/plain": [
       "               Price  RegistrationYear          Power      Kilometer  \\\n",
       "count  354365.000000     354365.000000  354365.000000  354365.000000   \n",
       "mean     4416.679830       2004.234481     110.093816  128211.363989   \n",
       "std      4514.176349         90.228466     189.851330   37905.083858   \n",
       "min         0.000000       1000.000000       0.000000    5000.000000   \n",
       "25%      1050.000000       1999.000000      69.000000  125000.000000   \n",
       "50%      2700.000000       2003.000000     105.000000  150000.000000   \n",
       "75%      6400.000000       2008.000000     143.000000  150000.000000   \n",
       "max     20000.000000       9999.000000   20000.000000  150000.000000   \n",
       "\n",
       "       RegistrationMonth  \n",
       "count      354365.000000  \n",
       "mean            5.714650  \n",
       "std             3.726432  \n",
       "min             0.000000  \n",
       "25%             3.000000  \n",
       "50%             6.000000  \n",
       "75%             9.000000  \n",
       "max            12.000000  "
      ]
     },
     "execution_count": 9,
     "metadata": {},
     "output_type": "execute_result"
    }
   ],
   "source": [
    "df.describe()"
   ]
  },
  {
   "cell_type": "markdown",
   "metadata": {},
   "source": [
    "Изучим целевой признак. Присутствуют нулевые значения, значит будем изучать детальней"
   ]
  },
  {
   "cell_type": "code",
   "execution_count": 10,
   "metadata": {},
   "outputs": [
    {
     "data": {
      "text/plain": [
       "<AxesSubplot:ylabel='Frequency'>"
      ]
     },
     "execution_count": 10,
     "metadata": {},
     "output_type": "execute_result"
    },
    {
     "data": {
      "image/png": "[encoded data removed]",
      "text/plain": [
       "<Figure size 1080x360 with 1 Axes>"
      ]
     },
     "metadata": {
      "needs_background": "light"
     },
     "output_type": "display_data"
    }
   ],
   "source": [
    "df.plot(kind='hist', y='Price', grid=True, bins=100, figsize=(15,5))"
   ]
  },
  {
   "cell_type": "code",
   "execution_count": 11,
   "metadata": {},
   "outputs": [
    {
     "data": {
      "text/plain": [
       "Price                12423\n",
       "VehicleType           7912\n",
       "RegistrationYear     12423\n",
       "Gearbox               9254\n",
       "Power                12423\n",
       "Model                 9881\n",
       "Kilometer            12423\n",
       "RegistrationMonth    12423\n",
       "FuelType              8241\n",
       "Brand                12423\n",
       "Repaired              6132\n",
       "dtype: int64"
      ]
     },
     "execution_count": 11,
     "metadata": {},
     "output_type": "execute_result"
    }
   ],
   "source": [
    "df.query('Price < 50').count()"
   ]
  },
  {
   "cell_type": "markdown",
   "metadata": {},
   "source": [
    "12423 c аномально низкими значениями, считаю правильным удалить их."
   ]
  },
  {
   "cell_type": "code",
   "execution_count": 12,
   "metadata": {},
   "outputs": [],
   "source": [
    "df = df.query('Price > 50')"
   ]
  },
  {
   "cell_type": "code",
   "execution_count": 13,
   "metadata": {},
   "outputs": [
    {
     "data": {
      "text/html": [
       "<div>\n",
       "<style scoped>\n",
       "    .dataframe tbody tr th:only-of-type {\n",
       "        vertical-align: middle;\n",
       "    }\n",
       "\n",
       "    .dataframe tbody tr th {\n",
       "        vertical-align: top;\n",
       "    }\n",
       "\n",
       "    .dataframe thead th {\n",
       "        text-align: right;\n",
       "    }\n",
       "</style>\n",
       "<table border=\"1\" class=\"dataframe\">\n",
       "  <thead>\n",
       "    <tr style=\"text-align: right;\">\n",
       "      <th></th>\n",
       "      <th>Price</th>\n",
       "      <th>RegistrationYear</th>\n",
       "      <th>Power</th>\n",
       "      <th>Kilometer</th>\n",
       "      <th>RegistrationMonth</th>\n",
       "    </tr>\n",
       "  </thead>\n",
       "  <tbody>\n",
       "    <tr>\n",
       "      <th>count</th>\n",
       "      <td>341615.000000</td>\n",
       "      <td>341615.000000</td>\n",
       "      <td>341615.000000</td>\n",
       "      <td>341615.000000</td>\n",
       "      <td>341615.000000</td>\n",
       "    </tr>\n",
       "    <tr>\n",
       "      <th>mean</th>\n",
       "      <td>4581.441986</td>\n",
       "      <td>2004.035660</td>\n",
       "      <td>111.265682</td>\n",
       "      <td>128472.168962</td>\n",
       "      <td>5.794189</td>\n",
       "    </tr>\n",
       "    <tr>\n",
       "      <th>std</th>\n",
       "      <td>4514.847269</td>\n",
       "      <td>74.621408</td>\n",
       "      <td>188.253189</td>\n",
       "      <td>37291.246054</td>\n",
       "      <td>3.691497</td>\n",
       "    </tr>\n",
       "    <tr>\n",
       "      <th>min</th>\n",
       "      <td>55.000000</td>\n",
       "      <td>1000.000000</td>\n",
       "      <td>0.000000</td>\n",
       "      <td>5000.000000</td>\n",
       "      <td>0.000000</td>\n",
       "    </tr>\n",
       "    <tr>\n",
       "      <th>25%</th>\n",
       "      <td>1200.000000</td>\n",
       "      <td>1999.000000</td>\n",
       "      <td>69.000000</td>\n",
       "      <td>125000.000000</td>\n",
       "      <td>3.000000</td>\n",
       "    </tr>\n",
       "    <tr>\n",
       "      <th>50%</th>\n",
       "      <td>2900.000000</td>\n",
       "      <td>2003.000000</td>\n",
       "      <td>105.000000</td>\n",
       "      <td>150000.000000</td>\n",
       "      <td>6.000000</td>\n",
       "    </tr>\n",
       "    <tr>\n",
       "      <th>75%</th>\n",
       "      <td>6500.000000</td>\n",
       "      <td>2008.000000</td>\n",
       "      <td>143.000000</td>\n",
       "      <td>150000.000000</td>\n",
       "      <td>9.000000</td>\n",
       "    </tr>\n",
       "    <tr>\n",
       "      <th>max</th>\n",
       "      <td>20000.000000</td>\n",
       "      <td>9999.000000</td>\n",
       "      <td>20000.000000</td>\n",
       "      <td>150000.000000</td>\n",
       "      <td>12.000000</td>\n",
       "    </tr>\n",
       "  </tbody>\n",
       "</table>\n",
       "</div>"
      ],
      "text/plain": [
       "               Price  RegistrationYear          Power      Kilometer  \\\n",
       "count  341615.000000     341615.000000  341615.000000  341615.000000   \n",
       "mean     4581.441986       2004.035660     111.265682  128472.168962   \n",
       "std      4514.847269         74.621408     188.253189   37291.246054   \n",
       "min        55.000000       1000.000000       0.000000    5000.000000   \n",
       "25%      1200.000000       1999.000000      69.000000  125000.000000   \n",
       "50%      2900.000000       2003.000000     105.000000  150000.000000   \n",
       "75%      6500.000000       2008.000000     143.000000  150000.000000   \n",
       "max     20000.000000       9999.000000   20000.000000  150000.000000   \n",
       "\n",
       "       RegistrationMonth  \n",
       "count      341615.000000  \n",
       "mean            5.794189  \n",
       "std             3.691497  \n",
       "min             0.000000  \n",
       "25%             3.000000  \n",
       "50%             6.000000  \n",
       "75%             9.000000  \n",
       "max            12.000000  "
      ]
     },
     "execution_count": 13,
     "metadata": {},
     "output_type": "execute_result"
    }
   ],
   "source": [
    "df.describe()"
   ]
  },
  {
   "cell_type": "markdown",
   "metadata": {},
   "source": [
    "Так же присутствуют аномальные значения в столбцах года и месяца регистрации, а так же мощности"
   ]
  },
  {
   "cell_type": "code",
   "execution_count": 14,
   "metadata": {},
   "outputs": [
    {
     "data": {
      "text/plain": [
       "Price                35363\n",
       "VehicleType          23683\n",
       "RegistrationYear     35363\n",
       "Gearbox              24829\n",
       "Power                35363\n",
       "Model                30633\n",
       "Kilometer            35363\n",
       "RegistrationMonth    35363\n",
       "FuelType             26396\n",
       "Brand                35363\n",
       "Repaired             17504\n",
       "dtype: int64"
      ]
     },
     "execution_count": 14,
     "metadata": {},
     "output_type": "execute_result"
    }
   ],
   "source": [
    "df.query('Power == 0').count()"
   ]
  },
  {
   "cell_type": "code",
   "execution_count": 15,
   "metadata": {},
   "outputs": [
    {
     "data": {
      "text/plain": [
       "<AxesSubplot:ylabel='Frequency'>"
      ]
     },
     "execution_count": 15,
     "metadata": {},
     "output_type": "execute_result"
    },
    {
     "data": {
      "image/png": "[encoded data removed]",
      "text/plain": [
       "<Figure size 1080x360 with 1 Axes>"
      ]
     },
     "metadata": {
      "needs_background": "light"
     },
     "output_type": "display_data"
    }
   ],
   "source": [
    "df.plot(kind='hist', y='Power', grid=True, bins=100, figsize=(15,5), range=(0, 500))"
   ]
  },
  {
   "cell_type": "markdown",
   "metadata": {},
   "source": [
    "Удалим аномальные значения равные 0 и больше 500"
   ]
  },
  {
   "cell_type": "code",
   "execution_count": 16,
   "metadata": {},
   "outputs": [],
   "source": [
    "df = df.query('0 < Power < 500')"
   ]
  },
  {
   "cell_type": "markdown",
   "metadata": {},
   "source": [
    "Года выпуска тоже оставим в рамках разумного"
   ]
  },
  {
   "cell_type": "code",
   "execution_count": 17,
   "metadata": {},
   "outputs": [],
   "source": [
    "df = df.query('1900 < RegistrationYear < 2023')"
   ]
  },
  {
   "cell_type": "code",
   "execution_count": 18,
   "metadata": {},
   "outputs": [],
   "source": [
    "df['VehicleType'].fillna('unknown', inplace = True)\n",
    "df['Gearbox'].fillna('unknown', inplace = True)\n",
    "df['Model'].fillna('unknown', inplace = True)\n",
    "df['FuelType'].fillna('unknown', inplace = True)\n",
    "df['Repaired'].fillna('unknown', inplace = True)"
   ]
  },
  {
   "cell_type": "code",
   "execution_count": 19,
   "metadata": {},
   "outputs": [
    {
     "name": "stdout",
     "output_type": "stream",
     "text": [
      "<class 'pandas.core.frame.DataFrame'>\n",
      "Int64Index: 305772 entries, 1 to 354364\n",
      "Data columns (total 11 columns):\n",
      " #   Column             Non-Null Count   Dtype \n",
      "---  ------             --------------   ----- \n",
      " 0   Price              305772 non-null  int64 \n",
      " 1   VehicleType        305772 non-null  object\n",
      " 2   RegistrationYear   305772 non-null  int64 \n",
      " 3   Gearbox            305772 non-null  object\n",
      " 4   Power              305772 non-null  int64 \n",
      " 5   Model              305772 non-null  object\n",
      " 6   Kilometer          305772 non-null  int64 \n",
      " 7   RegistrationMonth  305772 non-null  int64 \n",
      " 8   FuelType           305772 non-null  object\n",
      " 9   Brand              305772 non-null  object\n",
      " 10  Repaired           305772 non-null  object\n",
      "dtypes: int64(5), object(6)\n",
      "memory usage: 28.0+ MB\n"
     ]
    }
   ],
   "source": [
    "df.info()"
   ]
  },
  {
   "cell_type": "code",
   "execution_count": 20,
   "metadata": {},
   "outputs": [
    {
     "data": {
      "text/plain": [
       "Price                0\n",
       "VehicleType          0\n",
       "RegistrationYear     0\n",
       "Gearbox              0\n",
       "Power                0\n",
       "Model                0\n",
       "Kilometer            0\n",
       "RegistrationMonth    0\n",
       "FuelType             0\n",
       "Brand                0\n",
       "Repaired             0\n",
       "dtype: int64"
      ]
     },
     "execution_count": 20,
     "metadata": {},
     "output_type": "execute_result"
    }
   ],
   "source": [
    "df.isnull().sum()"
   ]
  },
  {
   "cell_type": "markdown",
   "metadata": {},
   "source": [
    "## Обучение моделей"
   ]
  },
  {
   "cell_type": "markdown",
   "metadata": {},
   "source": [
    "### Подготовим выборки для обучения моделей."
   ]
  },
  {
   "cell_type": "markdown",
   "metadata": {},
   "source": [
    "Закодируем категориальные признаки"
   ]
  },
  {
   "cell_type": "code",
   "execution_count": 21,
   "metadata": {},
   "outputs": [
    {
     "data": {
      "text/html": [
       "<div>\n",
       "<style scoped>\n",
       "    .dataframe tbody tr th:only-of-type {\n",
       "        vertical-align: middle;\n",
       "    }\n",
       "\n",
       "    .dataframe tbody tr th {\n",
       "        vertical-align: top;\n",
       "    }\n",
       "\n",
       "    .dataframe thead th {\n",
       "        text-align: right;\n",
       "    }\n",
       "</style>\n",
       "<table border=\"1\" class=\"dataframe\">\n",
       "  <thead>\n",
       "    <tr style=\"text-align: right;\">\n",
       "      <th></th>\n",
       "      <th>Price</th>\n",
       "      <th>RegistrationYear</th>\n",
       "      <th>Power</th>\n",
       "      <th>Kilometer</th>\n",
       "      <th>RegistrationMonth</th>\n",
       "      <th>VehicleType_convertible</th>\n",
       "      <th>VehicleType_coupe</th>\n",
       "      <th>VehicleType_other</th>\n",
       "      <th>VehicleType_sedan</th>\n",
       "      <th>VehicleType_small</th>\n",
       "      <th>...</th>\n",
       "      <th>Brand_smart</th>\n",
       "      <th>Brand_sonstige_autos</th>\n",
       "      <th>Brand_subaru</th>\n",
       "      <th>Brand_suzuki</th>\n",
       "      <th>Brand_toyota</th>\n",
       "      <th>Brand_trabant</th>\n",
       "      <th>Brand_volkswagen</th>\n",
       "      <th>Brand_volvo</th>\n",
       "      <th>Repaired_unknown</th>\n",
       "      <th>Repaired_yes</th>\n",
       "    </tr>\n",
       "  </thead>\n",
       "  <tbody>\n",
       "    <tr>\n",
       "      <th>1</th>\n",
       "      <td>18300</td>\n",
       "      <td>2011</td>\n",
       "      <td>190</td>\n",
       "      <td>125000</td>\n",
       "      <td>5</td>\n",
       "      <td>0</td>\n",
       "      <td>1</td>\n",
       "      <td>0</td>\n",
       "      <td>0</td>\n",
       "      <td>0</td>\n",
       "      <td>...</td>\n",
       "      <td>0</td>\n",
       "      <td>0</td>\n",
       "      <td>0</td>\n",
       "      <td>0</td>\n",
       "      <td>0</td>\n",
       "      <td>0</td>\n",
       "      <td>0</td>\n",
       "      <td>0</td>\n",
       "      <td>0</td>\n",
       "      <td>1</td>\n",
       "    </tr>\n",
       "    <tr>\n",
       "      <th>2</th>\n",
       "      <td>9800</td>\n",
       "      <td>2004</td>\n",
       "      <td>163</td>\n",
       "      <td>125000</td>\n",
       "      <td>8</td>\n",
       "      <td>0</td>\n",
       "      <td>0</td>\n",
       "      <td>0</td>\n",
       "      <td>0</td>\n",
       "      <td>0</td>\n",
       "      <td>...</td>\n",
       "      <td>0</td>\n",
       "      <td>0</td>\n",
       "      <td>0</td>\n",
       "      <td>0</td>\n",
       "      <td>0</td>\n",
       "      <td>0</td>\n",
       "      <td>0</td>\n",
       "      <td>0</td>\n",
       "      <td>1</td>\n",
       "      <td>0</td>\n",
       "    </tr>\n",
       "    <tr>\n",
       "      <th>3</th>\n",
       "      <td>1500</td>\n",
       "      <td>2001</td>\n",
       "      <td>75</td>\n",
       "      <td>150000</td>\n",
       "      <td>6</td>\n",
       "      <td>0</td>\n",
       "      <td>0</td>\n",
       "      <td>0</td>\n",
       "      <td>0</td>\n",
       "      <td>1</td>\n",
       "      <td>...</td>\n",
       "      <td>0</td>\n",
       "      <td>0</td>\n",
       "      <td>0</td>\n",
       "      <td>0</td>\n",
       "      <td>0</td>\n",
       "      <td>0</td>\n",
       "      <td>1</td>\n",
       "      <td>0</td>\n",
       "      <td>0</td>\n",
       "      <td>0</td>\n",
       "    </tr>\n",
       "    <tr>\n",
       "      <th>4</th>\n",
       "      <td>3600</td>\n",
       "      <td>2008</td>\n",
       "      <td>69</td>\n",
       "      <td>90000</td>\n",
       "      <td>7</td>\n",
       "      <td>0</td>\n",
       "      <td>0</td>\n",
       "      <td>0</td>\n",
       "      <td>0</td>\n",
       "      <td>1</td>\n",
       "      <td>...</td>\n",
       "      <td>0</td>\n",
       "      <td>0</td>\n",
       "      <td>0</td>\n",
       "      <td>0</td>\n",
       "      <td>0</td>\n",
       "      <td>0</td>\n",
       "      <td>0</td>\n",
       "      <td>0</td>\n",
       "      <td>0</td>\n",
       "      <td>0</td>\n",
       "    </tr>\n",
       "    <tr>\n",
       "      <th>5</th>\n",
       "      <td>650</td>\n",
       "      <td>1995</td>\n",
       "      <td>102</td>\n",
       "      <td>150000</td>\n",
       "      <td>10</td>\n",
       "      <td>0</td>\n",
       "      <td>0</td>\n",
       "      <td>0</td>\n",
       "      <td>1</td>\n",
       "      <td>0</td>\n",
       "      <td>...</td>\n",
       "      <td>0</td>\n",
       "      <td>0</td>\n",
       "      <td>0</td>\n",
       "      <td>0</td>\n",
       "      <td>0</td>\n",
       "      <td>0</td>\n",
       "      <td>0</td>\n",
       "      <td>0</td>\n",
       "      <td>0</td>\n",
       "      <td>1</td>\n",
       "    </tr>\n",
       "  </tbody>\n",
       "</table>\n",
       "<p>5 rows × 312 columns</p>\n",
       "</div>"
      ],
      "text/plain": [
       "   Price  RegistrationYear  Power  Kilometer  RegistrationMonth  \\\n",
       "1  18300              2011    190     125000                  5   \n",
       "2   9800              2004    163     125000                  8   \n",
       "3   1500              2001     75     150000                  6   \n",
       "4   3600              2008     69      90000                  7   \n",
       "5    650              1995    102     150000                 10   \n",
       "\n",
       "   VehicleType_convertible  VehicleType_coupe  VehicleType_other  \\\n",
       "1                        0                  1                  0   \n",
       "2                        0                  0                  0   \n",
       "3                        0                  0                  0   \n",
       "4                        0                  0                  0   \n",
       "5                        0                  0                  0   \n",
       "\n",
       "   VehicleType_sedan  VehicleType_small  ...  Brand_smart  \\\n",
       "1                  0                  0  ...            0   \n",
       "2                  0                  0  ...            0   \n",
       "3                  0                  1  ...            0   \n",
       "4                  0                  1  ...            0   \n",
       "5                  1                  0  ...            0   \n",
       "\n",
       "   Brand_sonstige_autos  Brand_subaru  Brand_suzuki  Brand_toyota  \\\n",
       "1                     0             0             0             0   \n",
       "2                     0             0             0             0   \n",
       "3                     0             0             0             0   \n",
       "4                     0             0             0             0   \n",
       "5                     0             0             0             0   \n",
       "\n",
       "   Brand_trabant  Brand_volkswagen  Brand_volvo  Repaired_unknown  \\\n",
       "1              0                 0            0                 0   \n",
       "2              0                 0            0                 1   \n",
       "3              0                 1            0                 0   \n",
       "4              0                 0            0                 0   \n",
       "5              0                 0            0                 0   \n",
       "\n",
       "   Repaired_yes  \n",
       "1             1  \n",
       "2             0  \n",
       "3             0  \n",
       "4             0  \n",
       "5             1  \n",
       "\n",
       "[5 rows x 312 columns]"
      ]
     },
     "execution_count": 21,
     "metadata": {},
     "output_type": "execute_result"
    }
   ],
   "source": [
    "df_ohe = pd.get_dummies(df, drop_first=True)\n",
    "df_ohe.head()"
   ]
  },
  {
   "cell_type": "markdown",
   "metadata": {},
   "source": [
    "Разобьем признаки на выборки"
   ]
  },
  {
   "cell_type": "code",
   "execution_count": 22,
   "metadata": {},
   "outputs": [],
   "source": [
    "df_test_valid_ohe, df_test_ohe = train_test_split(df_ohe, test_size=0.2, random_state=42) "
   ]
  },
  {
   "cell_type": "code",
   "execution_count": 23,
   "metadata": {},
   "outputs": [],
   "source": [
    "df_valid_ohe, df_train_ohe = train_test_split(df_test_valid_ohe, test_size=0.75, random_state=42)"
   ]
  },
  {
   "cell_type": "code",
   "execution_count": 24,
   "metadata": {},
   "outputs": [],
   "source": [
    "features_test_ohe = df_test_ohe.drop(['Price'], axis=1)\n",
    "target_test_ohe = df_test_ohe['Price']\n",
    "features_train_ohe = df_train_ohe.drop(['Price'], axis=1)\n",
    "target_train_ohe = df_train_ohe['Price']\n",
    "features_valid_ohe = df_valid_ohe.drop(['Price'], axis=1)\n",
    "target_valid_ohe = df_valid_ohe['Price']"
   ]
  },
  {
   "cell_type": "code",
   "execution_count": 25,
   "metadata": {},
   "outputs": [
    {
     "name": "stdout",
     "output_type": "stream",
     "text": [
      "(183463, 311)\n",
      "(183463,)\n",
      "(61155, 311)\n",
      "(61155,)\n",
      "(61154, 311)\n",
      "(61154,)\n"
     ]
    }
   ],
   "source": [
    "print(features_train_ohe.shape)\n",
    "print(target_train_ohe.shape)\n",
    "print(features_test_ohe.shape)\n",
    "print(target_test_ohe.shape)\n",
    "print(features_valid_ohe.shape)\n",
    "print(target_valid_ohe.shape)\n",
    "#проверим соотношение"
   ]
  },
  {
   "cell_type": "markdown",
   "metadata": {},
   "source": [
    "Масштабируем признаки"
   ]
  },
  {
   "cell_type": "code",
   "execution_count": 28,
   "metadata": {},
   "outputs": [],
   "source": [
    "num = list(df_ohe)\n",
    "num.remove('Price') "
   ]
  },
  {
   "cell_type": "code",
   "execution_count": 29,
   "metadata": {},
   "outputs": [],
   "source": [
    "scaler = StandardScaler()\n",
    "scaler.fit_transform(features_train_ohe[num])\n",
    "features_valid_ohe = scaler.transform(features_valid_ohe[num])\n",
    "features_train_ohe = scaler.transform(features_train_ohe[num])\n",
    "features_test_ohe = scaler.transform(features_test_ohe[num])"
   ]
  },
  {
   "cell_type": "code",
   "execution_count": 30,
   "metadata": {},
   "outputs": [
    {
     "data": {
      "text/plain": [
       "array([[-0.04276855, -0.37652287,  0.58658989, ..., -0.09745379,\n",
       "        -0.42489105, -0.32668876],\n",
       "       [ 0.53276894,  0.8066289 ,  0.58658989, ..., -0.09745379,\n",
       "         2.35354449, -0.32668876],\n",
       "       [ 0.82053769, -0.63944549, -1.59735996, ..., -0.09745379,\n",
       "         2.35354449, -0.32668876],\n",
       "       ...,\n",
       "       [ 0.10111582,  0.29956385,  0.58658989, ..., -0.09745379,\n",
       "        -0.42489105, -0.32668876],\n",
       "       [ 0.2450002 ,  1.06955151,  0.58658989, ..., -0.09745379,\n",
       "        -0.42489105, -0.32668876],\n",
       "       [-0.90607479,  2.15880235,  0.58658989, ..., -0.09745379,\n",
       "         2.35354449, -0.32668876]])"
      ]
     },
     "execution_count": 30,
     "metadata": {},
     "output_type": "execute_result"
    }
   ],
   "source": [
    "features_train_ohe"
   ]
  },
  {
   "cell_type": "markdown",
   "metadata": {},
   "source": [
    "### Обучим модель LinearRegression"
   ]
  },
  {
   "cell_type": "code",
   "execution_count": 31,
   "metadata": {},
   "outputs": [
    {
     "name": "stdout",
     "output_type": "stream",
     "text": [
      "RMSE: 2579.8130816165963\n",
      "CPU times: user 15.7 s, sys: 11.1 s, total: 26.8 s\n",
      "Wall time: 26.9 s\n"
     ]
    }
   ],
   "source": [
    "%%time\n",
    "\n",
    "model = LinearRegression()\n",
    "model.fit(features_train_ohe, target_train_ohe)\n",
    "predictions_valid_ohe = model.predict(features_valid_ohe)\n",
    "rmse = mean_squared_error(target_valid_ohe, predictions_valid_ohe)**0.5\n",
    "print('RMSE:', rmse)"
   ]
  },
  {
   "cell_type": "markdown",
   "metadata": {},
   "source": [
    "### Обучим модель DecisionTreeRegressor"
   ]
  },
  {
   "cell_type": "code",
   "execution_count": 32,
   "metadata": {},
   "outputs": [],
   "source": [
    "enc = OrdinalEncoder()\n",
    "enc.fit(df[['VehicleType','RegistrationYear', 'Gearbox', 'Power', \n",
    "            'Model', 'Kilometer','FuelType',\n",
    "            'Brand', 'Repaired']])\n",
    "df[['VehicleType','RegistrationYear', 'Gearbox', 'Power', \n",
    "            'Model', 'Kilometer','FuelType',\n",
    "            'Brand', 'Repaired']] = enc.transform(df[['VehicleType','RegistrationYear', 'Gearbox', 'Power', \n",
    "            'Model', 'Kilometer','FuelType',\n",
    "            'Brand', 'Repaired']])"
   ]
  },
  {
   "cell_type": "code",
   "execution_count": 33,
   "metadata": {},
   "outputs": [],
   "source": [
    "df_test_valid_oe, df_test_oe = train_test_split(df, test_size=0.2, random_state=42) "
   ]
  },
  {
   "cell_type": "code",
   "execution_count": 34,
   "metadata": {},
   "outputs": [],
   "source": [
    "df_valid_oe, df_train_oe = train_test_split(df_test_valid_oe, test_size=0.75, random_state=42)"
   ]
  },
  {
   "cell_type": "code",
   "execution_count": 35,
   "metadata": {},
   "outputs": [],
   "source": [
    "features_test_oe = df_test_oe.drop(['Price'], axis=1)\n",
    "target_test_oe = df_test_oe['Price']\n",
    "features_train_oe = df_train_oe.drop(['Price'], axis=1)\n",
    "target_train_oe = df_train_oe['Price']\n",
    "features_valid_oe = df_valid_oe.drop(['Price'], axis=1)\n",
    "target_valid_oe = df_valid_oe['Price']"
   ]
  },
  {
   "cell_type": "code",
   "execution_count": 36,
   "metadata": {},
   "outputs": [
    {
     "name": "stdout",
     "output_type": "stream",
     "text": [
      "(183463, 10)\n",
      "(183463,)\n",
      "(61155, 10)\n",
      "(61155,)\n",
      "(61154, 10)\n",
      "(61154,)\n"
     ]
    }
   ],
   "source": [
    "print(features_train_oe.shape)\n",
    "print(target_train_oe.shape)\n",
    "print(features_test_oe.shape)\n",
    "print(target_test_oe.shape)\n",
    "print(features_valid_oe.shape)\n",
    "print(target_valid_oe.shape)\n",
    "#проверим соотношение"
   ]
  },
  {
   "cell_type": "code",
   "execution_count": 39,
   "metadata": {},
   "outputs": [
    {
     "name": "stdout",
     "output_type": "stream",
     "text": [
      "Глубина: 2\n",
      "RMSE: 3262.753003898737\n",
      "--------------------\n",
      "Глубина: 4\n",
      "RMSE: 2665.679789646077\n",
      "--------------------\n",
      "Глубина: 6\n",
      "RMSE: 2309.9184444573007\n",
      "--------------------\n",
      "Глубина: 8\n",
      "RMSE: 2102.938362866917\n",
      "--------------------\n",
      "Глубина: 10\n",
      "RMSE: 1980.8526911892754\n",
      "--------------------\n",
      "Глубина: 12\n",
      "RMSE: 1910.8750109040861\n",
      "--------------------\n",
      "Глубина: 14\n",
      "RMSE: 1912.9077686466235\n",
      "--------------------\n",
      "Глубина: 16\n",
      "RMSE: 1936.1462664750343\n",
      "--------------------\n",
      "Глубина: 18\n",
      "RMSE: 1972.5312169306715\n",
      "--------------------\n",
      "\n"
     ]
    }
   ],
   "source": [
    "for depth in range(2, 20, 2):\n",
    "    model = DecisionTreeRegressor(random_state=42, max_depth = depth)\n",
    "    model.fit(features_train_oe, target_train_oe)\n",
    "    predictions_valid_oe = model.predict(features_valid_oe)\n",
    "    rmse = mean_squared_error(target_valid_oe, predictions_valid_oe)**0.5\n",
    "    print('Глубина:', depth)\n",
    "    print('RMSE:', rmse)\n",
    "    print('-'*20)\n",
    "print()"
   ]
  },
  {
   "cell_type": "markdown",
   "metadata": {},
   "source": [
    "Лучший результат RMSE = 1910 на глубине 12"
   ]
  },
  {
   "cell_type": "markdown",
   "metadata": {},
   "source": [
    "### Обучим модель RandomForestRegressor"
   ]
  },
  {
   "cell_type": "code",
   "execution_count": 40,
   "metadata": {},
   "outputs": [
    {
     "name": "stdout",
     "output_type": "stream",
     "text": [
      "Количество деревьев: 10\n",
      "RMSE: 1972.5312169306715\n",
      "--------------------\n",
      "Количество деревьев: 20\n",
      "RMSE: 1972.5312169306715\n",
      "--------------------\n",
      "Количество деревьев: 30\n",
      "RMSE: 1972.5312169306715\n",
      "--------------------\n",
      "Количество деревьев: 40\n",
      "RMSE: 1972.5312169306715\n",
      "--------------------\n",
      "Количество деревьев: 50\n",
      "RMSE: 1972.5312169306715\n",
      "--------------------\n",
      "Количество деревьев: 60\n",
      "RMSE: 1972.5312169306715\n",
      "--------------------\n",
      "\n",
      "CPU times: user 1min 9s, sys: 361 ms, total: 1min 10s\n",
      "Wall time: 1min 10s\n"
     ]
    }
   ],
   "source": [
    "%%time\n",
    "\n",
    "for est in [10, 20, 30, 40, 50, 60]:\n",
    "    model = RandomForestRegressor(random_state=42, n_estimators=est, max_depth=12)\n",
    "    model.fit(features_train_oe, target_train_oe)\n",
    "    predictions_train_oe = model.predict(features_valid_oe)\n",
    "    rmse = mean_squared_error(target_valid_oe, predictions_valid_oe)**0.5\n",
    "    print('Количество деревьев:', est)\n",
    "    print('RMSE:', rmse)\n",
    "    print('-'*20)\n",
    "print()"
   ]
  },
  {
   "cell_type": "markdown",
   "metadata": {},
   "source": [
    "Количество деревьев не влияет на результат"
   ]
  },
  {
   "cell_type": "markdown",
   "metadata": {},
   "source": [
    "### Обучим модель LightGBM "
   ]
  },
  {
   "cell_type": "code",
   "execution_count": 43,
   "metadata": {},
   "outputs": [
    {
     "name": "stdout",
     "output_type": "stream",
     "text": [
      "(183463, 10)\n",
      "(183463,)\n",
      "(61155, 10)\n",
      "(61155,)\n",
      "(61154, 10)\n",
      "(61154,)\n"
     ]
    }
   ],
   "source": [
    "df_test_valid, df_test = train_test_split(df, test_size=0.2, random_state=42) \n",
    "df_valid, df_train = train_test_split(df_test_valid, test_size=0.75, random_state=42)\n",
    "\n",
    "features_test = df_test.drop(['Price'], axis=1)\n",
    "target_test = df_test['Price']\n",
    "features_train = df_train.drop(['Price'], axis=1)\n",
    "target_train = df_train['Price']\n",
    "features_valid = df_valid.drop(['Price'], axis=1)\n",
    "target_valid = df_valid['Price']\n",
    "\n",
    "for c in features_test.columns:\n",
    "    col_type = features_test[c].dtype\n",
    "    if col_type == 'object':\n",
    "        features_test[c] = features_test[c].astype('category')\n",
    "        \n",
    "for c in features_train.columns:\n",
    "    col_type = features_train[c].dtype\n",
    "    if col_type == 'object':\n",
    "        features_train[c] = features_train[c].astype('category')\n",
    "        \n",
    "for c in features_valid.columns:\n",
    "    col_type = features_valid[c].dtype\n",
    "    if col_type == 'object':\n",
    "        features_valid[c] = features_valid[c].astype('category')\n",
    "\n",
    "print(features_train.shape)\n",
    "print(target_train.shape)\n",
    "print(features_test.shape)\n",
    "print(target_test.shape)\n",
    "print(features_valid.shape)\n",
    "print(target_valid.shape)\n"
   ]
  },
  {
   "cell_type": "code",
   "execution_count": 44,
   "metadata": {},
   "outputs": [],
   "source": [
    "param_grid = {'n_estimators': [100], 'num_leaves': [n for n in range(50, 300, 50)]}"
   ]
  },
  {
   "cell_type": "code",
   "execution_count": 45,
   "metadata": {
    "scrolled": true
   },
   "outputs": [
    {
     "name": "stdout",
     "output_type": "stream",
     "text": [
      "Fitting 3 folds for each of 5 candidates, totalling 15 fits\n",
      "[CV 1/3] END ................n_estimators=100, num_leaves=50; total time= 5.4min\n",
      "[CV 2/3] END ................n_estimators=100, num_leaves=50; total time= 4.8min\n",
      "[CV 3/3] END ................n_estimators=100, num_leaves=50; total time= 2.9min\n",
      "[CV 1/3] END ...............n_estimators=100, num_leaves=100; total time= 5.4min\n",
      "[CV 2/3] END ...............n_estimators=100, num_leaves=100; total time= 4.2min\n",
      "[CV 3/3] END ...............n_estimators=100, num_leaves=100; total time= 6.6min\n",
      "[CV 1/3] END ...............n_estimators=100, num_leaves=150; total time=   8.8s\n",
      "[CV 2/3] END ...............n_estimators=100, num_leaves=150; total time=  10.5s\n",
      "[CV 3/3] END ...............n_estimators=100, num_leaves=150; total time=   9.5s\n",
      "[CV 1/3] END ...............n_estimators=100, num_leaves=200; total time=  17.5s\n",
      "[CV 2/3] END ...............n_estimators=100, num_leaves=200; total time=  16.0s\n",
      "[CV 3/3] END ...............n_estimators=100, num_leaves=200; total time=  18.5s\n",
      "[CV 1/3] END ...............n_estimators=100, num_leaves=250; total time=  15.8s\n",
      "[CV 2/3] END ...............n_estimators=100, num_leaves=250; total time=  19.9s\n",
      "[CV 3/3] END ...............n_estimators=100, num_leaves=250; total time=  16.2s\n",
      "Лучшие параметры: {'n_estimators': 100, 'num_leaves': 250}\n",
      "RMSE: 1558.9010231597167\n"
     ]
    }
   ],
   "source": [
    "model = LGBMRegressor(random_state=42)\n",
    "model_lgb=GridSearchCV(\n",
    "    estimator=model, param_grid=param_grid, scoring='neg_root_mean_squared_error', cv=3, verbose=3\n",
    ")\n",
    "model_lgb.fit(features_train, target_train)\n",
    "predictions_valid = model_lgb.predict(features_valid)\n",
    "rmse = mean_squared_error(target_valid, predictions_valid)**0.5\n",
    "print('Лучшие параметры:', model_lgb.best_params_)\n",
    "print('RMSE:', rmse)"
   ]
  },
  {
   "cell_type": "markdown",
   "metadata": {},
   "source": [
    "## Анализ моделей. Выберем лучшую модель под требования заказчика"
   ]
  },
  {
   "cell_type": "markdown",
   "metadata": {},
   "source": [
    "### LinearRegression"
   ]
  },
  {
   "cell_type": "code",
   "execution_count": 46,
   "metadata": {},
   "outputs": [
    {
     "name": "stdout",
     "output_type": "stream",
     "text": [
      "CPU times: user 12 s, sys: 4.14 s, total: 16.2 s\n",
      "Wall time: 16.4 s\n"
     ]
    },
    {
     "data": {
      "text/plain": [
       "LinearRegression()"
      ]
     },
     "execution_count": 46,
     "metadata": {},
     "output_type": "execute_result"
    }
   ],
   "source": [
    "%%time\n",
    "\n",
    "model_lr = LinearRegression()\n",
    "model_lr.fit(features_train_ohe, target_train_ohe)"
   ]
  },
  {
   "cell_type": "code",
   "execution_count": 47,
   "metadata": {},
   "outputs": [
    {
     "name": "stdout",
     "output_type": "stream",
     "text": [
      "CPU times: user 72.1 ms, sys: 26.2 ms, total: 98.4 ms\n",
      "Wall time: 99.2 ms\n"
     ]
    }
   ],
   "source": [
    "%%time\n",
    "\n",
    "predictions_valid_ohe = model_lr.predict(features_valid_ohe)"
   ]
  },
  {
   "cell_type": "markdown",
   "metadata": {},
   "source": [
    "### DecisionTreeRegressor"
   ]
  },
  {
   "cell_type": "code",
   "execution_count": 48,
   "metadata": {},
   "outputs": [
    {
     "name": "stdout",
     "output_type": "stream",
     "text": [
      "CPU times: user 500 ms, sys: 23 ms, total: 523 ms\n",
      "Wall time: 582 ms\n"
     ]
    },
    {
     "data": {
      "text/plain": [
       "DecisionTreeRegressor(max_depth=12, random_state=42)"
      ]
     },
     "execution_count": 48,
     "metadata": {},
     "output_type": "execute_result"
    }
   ],
   "source": [
    "%%time\n",
    "\n",
    "model_dr = DecisionTreeRegressor(random_state=42, max_depth=12)\n",
    "model_dr.fit(features_train_oe, target_train_oe)"
   ]
  },
  {
   "cell_type": "code",
   "execution_count": 49,
   "metadata": {},
   "outputs": [
    {
     "name": "stdout",
     "output_type": "stream",
     "text": [
      "CPU times: user 13.2 ms, sys: 11 µs, total: 13.2 ms\n",
      "Wall time: 11 ms\n"
     ]
    }
   ],
   "source": [
    "%%time\n",
    "\n",
    "predictions_valid_oe = model_dr.predict(features_valid_oe)"
   ]
  },
  {
   "cell_type": "markdown",
   "metadata": {},
   "source": [
    "### RandomForestRegressor"
   ]
  },
  {
   "cell_type": "code",
   "execution_count": 50,
   "metadata": {},
   "outputs": [
    {
     "name": "stdout",
     "output_type": "stream",
     "text": [
      "CPU times: user 1min 36s, sys: 252 ms, total: 1min 36s\n",
      "Wall time: 1min 36s\n"
     ]
    },
    {
     "data": {
      "text/plain": [
       "RandomForestRegressor(max_depth=12, n_estimators=300, random_state=42)"
      ]
     },
     "execution_count": 50,
     "metadata": {},
     "output_type": "execute_result"
    }
   ],
   "source": [
    "%%time\n",
    "\n",
    "model_rs = RandomForestRegressor(random_state=42, max_depth=12, n_estimators=300)\n",
    "model_rs.fit(features_train_oe, target_train_oe)"
   ]
  },
  {
   "cell_type": "code",
   "execution_count": 51,
   "metadata": {},
   "outputs": [
    {
     "name": "stdout",
     "output_type": "stream",
     "text": [
      "CPU times: user 2.25 s, sys: 9.24 ms, total: 2.26 s\n",
      "Wall time: 2.27 s\n"
     ]
    }
   ],
   "source": [
    "%%time\n",
    "\n",
    "predictions_valid_oe = model_rs.predict(features_valid_oe)"
   ]
  },
  {
   "cell_type": "markdown",
   "metadata": {},
   "source": [
    "### LGBMRegressor"
   ]
  },
  {
   "cell_type": "code",
   "execution_count": 52,
   "metadata": {},
   "outputs": [
    {
     "name": "stdout",
     "output_type": "stream",
     "text": [
      "CPU times: user 21min 7s, sys: 5.85 s, total: 21min 13s\n",
      "Wall time: 21min 22s\n"
     ]
    },
    {
     "data": {
      "text/plain": [
       "LGBMRegressor(n_estimators=300, num_leaves=250, random_state=42)"
      ]
     },
     "execution_count": 52,
     "metadata": {},
     "output_type": "execute_result"
    }
   ],
   "source": [
    "%%time\n",
    "\n",
    "model_lgb = LGBMRegressor(random_state=42, n_estimators=300, num_leaves=250)\n",
    "model_lgb.fit(features_train, target_train)"
   ]
  },
  {
   "cell_type": "code",
   "execution_count": 53,
   "metadata": {},
   "outputs": [
    {
     "name": "stdout",
     "output_type": "stream",
     "text": [
      "CPU times: user 2.92 s, sys: 0 ns, total: 2.92 s\n",
      "Wall time: 2.9 s\n"
     ]
    }
   ],
   "source": [
    "%%time\n",
    "\n",
    "predictions_valid = model_lgb.predict(features_valid)"
   ]
  },
  {
   "cell_type": "markdown",
   "metadata": {},
   "source": [
    "Проверим модель на тестовой выборке"
   ]
  },
  {
   "cell_type": "code",
   "execution_count": 54,
   "metadata": {},
   "outputs": [
    {
     "name": "stdout",
     "output_type": "stream",
     "text": [
      "RMSE: 1540.5921809516503\n"
     ]
    }
   ],
   "source": [
    "predictions_test = model_lgb.predict(features_test)\n",
    "rmse = mean_squared_error(target_test, predictions_test)**0.5\n",
    "print('RMSE:', rmse)"
   ]
  },
  {
   "cell_type": "markdown",
   "metadata": {},
   "source": [
    "Вывод:\n",
    "* LinearRegression - 19.6 s / 69.1 ms\n",
    "* DecisionTreeRegressor - 414 ms / 24.1 ms\n",
    "* RandomForestRegressor - 1min 24s /  4.34 s\n",
    "* LGBMRegressor - 1min 52s / 11 s\n",
    "\n",
    "RandomForestRegressor и LGBMRegressor имеют примерно одинаковое время работы, но при этом у LGBMRegressor RMSE гораздо ниже, на тестовой выборке показало 1513."
   ]
  },
  {
   "cell_type": "markdown",
   "metadata": {},
   "source": [
    "## Общий вывод:"
   ]
  },
  {
   "cell_type": "markdown",
   "metadata": {},
   "source": [
    "1) Загрузили и изучили данные. Заполнили пропущенные значения и обработали аномалии в столбцах. Удалили неиформативные признаки.\n",
    "\n",
    "2) Подготовили выборки для обучения моделей.\n",
    "\n",
    "3) Обучили разные модели:\n",
    "\n",
    "    * LinearRegression - кодирование с помощью OHE\n",
    "    * DecisionTreeRegressor - кодирование с помощью OE\n",
    "    * RandomForestRegressor - кодирование с помощью OE\n",
    "    * LGBMRegressor \n",
    "\n",
    "4) Проанализировали время обучения, время предсказания и качество моделей на соответствие требованиям заказчика:\n",
    "\n",
    "    * LinearRegression - 19.6 s / 69.1 ms\n",
    "    * DecisionTreeRegressor - 414 ms / 24.1 ms\n",
    "    * RandomForestRegressor - 1min 24s /  4.34 s\n",
    "    * LGBMRegressor - 1min 52s / 11 s\n",
    "\n",
    "RandomForestRegressor и LGBMRegressor имеют примерно одинаковое время работы, но при этом у LGBMRegressor RMSE гораздо ниже, на тестовой выборке показало 1513.\n",
    "\n"
   ]
  }
 ],
 "metadata": {
  "ExecuteTimeLog": [
   {
    "duration": 1411,
    "start_time": "2023-02-27T18:41:11.024Z"
   },
   {
    "duration": 3066,
    "start_time": "2023-02-27T18:42:01.417Z"
   },
   {
    "duration": 126,
    "start_time": "2023-02-27T18:43:36.650Z"
   },
   {
    "duration": 114,
    "start_time": "2023-02-27T18:44:24.352Z"
   },
   {
    "duration": 21,
    "start_time": "2023-02-27T18:44:50.259Z"
   },
   {
    "duration": 144,
    "start_time": "2023-02-27T18:46:13.571Z"
   },
   {
    "duration": 4,
    "start_time": "2023-02-27T18:46:48.000Z"
   },
   {
    "duration": 124,
    "start_time": "2023-02-27T18:49:10.939Z"
   },
   {
    "duration": 10,
    "start_time": "2023-02-27T18:56:21.484Z"
   },
   {
    "duration": 124,
    "start_time": "2023-02-27T18:56:35.266Z"
   },
   {
    "duration": 20,
    "start_time": "2023-02-27T19:03:06.041Z"
   },
   {
    "duration": 477,
    "start_time": "2023-02-27T19:03:09.605Z"
   },
   {
    "duration": 552,
    "start_time": "2023-02-27T19:03:25.700Z"
   },
   {
    "duration": 520,
    "start_time": "2023-02-27T19:03:28.868Z"
   },
   {
    "duration": 513,
    "start_time": "2023-02-27T19:03:49.767Z"
   },
   {
    "duration": 528,
    "start_time": "2023-02-27T19:03:55.078Z"
   },
   {
    "duration": 495,
    "start_time": "2023-02-27T19:04:04.586Z"
   },
   {
    "duration": 32,
    "start_time": "2023-02-27T19:06:26.011Z"
   },
   {
    "duration": 20,
    "start_time": "2023-02-27T19:09:27.764Z"
   },
   {
    "duration": 50,
    "start_time": "2023-02-28T13:25:03.565Z"
   },
   {
    "duration": 1233,
    "start_time": "2023-02-28T13:25:10.536Z"
   },
   {
    "duration": 975,
    "start_time": "2023-02-28T13:25:11.770Z"
   },
   {
    "duration": 19,
    "start_time": "2023-02-28T13:25:12.746Z"
   },
   {
    "duration": 121,
    "start_time": "2023-02-28T13:25:12.766Z"
   },
   {
    "duration": 108,
    "start_time": "2023-02-28T13:25:12.888Z"
   },
   {
    "duration": 410,
    "start_time": "2023-02-28T13:25:12.997Z"
   },
   {
    "duration": 26,
    "start_time": "2023-02-28T13:25:13.409Z"
   },
   {
    "duration": 79,
    "start_time": "2023-02-28T13:25:13.437Z"
   },
   {
    "duration": 24,
    "start_time": "2023-02-28T13:25:13.518Z"
   },
   {
    "duration": 21,
    "start_time": "2023-02-28T13:26:39.131Z"
   },
   {
    "duration": 47,
    "start_time": "2023-02-28T13:26:45.939Z"
   },
   {
    "duration": 45,
    "start_time": "2023-02-28T13:26:55.359Z"
   },
   {
    "duration": 54,
    "start_time": "2023-02-28T13:27:01.182Z"
   },
   {
    "duration": 39,
    "start_time": "2023-02-28T13:27:18.187Z"
   },
   {
    "duration": 22,
    "start_time": "2023-02-28T13:27:21.796Z"
   },
   {
    "duration": 15,
    "start_time": "2023-02-28T13:27:43.321Z"
   },
   {
    "duration": 26,
    "start_time": "2023-02-28T13:30:59.102Z"
   },
   {
    "duration": 87,
    "start_time": "2023-02-28T13:31:12.735Z"
   },
   {
    "duration": 39,
    "start_time": "2023-02-28T13:33:35.209Z"
   },
   {
    "duration": 9,
    "start_time": "2023-02-28T13:33:45.583Z"
   },
   {
    "duration": 11,
    "start_time": "2023-02-28T13:34:37.793Z"
   },
   {
    "duration": 9,
    "start_time": "2023-02-28T13:34:43.067Z"
   },
   {
    "duration": 9,
    "start_time": "2023-02-28T13:34:52.131Z"
   },
   {
    "duration": 3,
    "start_time": "2023-02-28T13:34:56.992Z"
   },
   {
    "duration": 735,
    "start_time": "2023-02-28T13:34:56.997Z"
   },
   {
    "duration": 12,
    "start_time": "2023-02-28T13:34:57.734Z"
   },
   {
    "duration": 124,
    "start_time": "2023-02-28T13:34:57.747Z"
   },
   {
    "duration": 116,
    "start_time": "2023-02-28T13:34:57.873Z"
   },
   {
    "duration": 368,
    "start_time": "2023-02-28T13:34:57.990Z"
   },
   {
    "duration": 27,
    "start_time": "2023-02-28T13:34:58.359Z"
   },
   {
    "duration": 21,
    "start_time": "2023-02-28T13:34:58.388Z"
   },
   {
    "duration": 15,
    "start_time": "2023-02-28T13:34:58.411Z"
   },
   {
    "duration": 29,
    "start_time": "2023-02-28T13:34:58.428Z"
   },
   {
    "duration": 86,
    "start_time": "2023-02-28T13:35:26.098Z"
   },
   {
    "duration": 70,
    "start_time": "2023-02-28T13:37:18.453Z"
   },
   {
    "duration": 67,
    "start_time": "2023-02-28T13:37:45.839Z"
   },
   {
    "duration": 21,
    "start_time": "2023-02-28T13:37:52.318Z"
   },
   {
    "duration": 11,
    "start_time": "2023-02-28T13:38:04.959Z"
   },
   {
    "duration": 67,
    "start_time": "2023-02-28T13:38:08.650Z"
   },
   {
    "duration": 11,
    "start_time": "2023-02-28T13:38:42.165Z"
   },
   {
    "duration": 10,
    "start_time": "2023-02-28T13:38:49.711Z"
   },
   {
    "duration": 10,
    "start_time": "2023-02-28T13:38:53.742Z"
   },
   {
    "duration": 19,
    "start_time": "2023-02-28T13:39:10.606Z"
   },
   {
    "duration": 43,
    "start_time": "2023-02-28T13:41:46.182Z"
   },
   {
    "duration": 542,
    "start_time": "2023-02-28T13:41:49.094Z"
   },
   {
    "duration": 385,
    "start_time": "2023-02-28T13:42:12.719Z"
   },
   {
    "duration": 4,
    "start_time": "2023-02-28T13:42:38.992Z"
   },
   {
    "duration": 738,
    "start_time": "2023-02-28T13:42:38.998Z"
   },
   {
    "duration": 12,
    "start_time": "2023-02-28T13:42:39.738Z"
   },
   {
    "duration": 128,
    "start_time": "2023-02-28T13:42:39.752Z"
   },
   {
    "duration": 111,
    "start_time": "2023-02-28T13:42:39.882Z"
   },
   {
    "duration": 378,
    "start_time": "2023-02-28T13:42:39.994Z"
   },
   {
    "duration": 20,
    "start_time": "2023-02-28T13:42:40.374Z"
   },
   {
    "duration": 18,
    "start_time": "2023-02-28T13:42:40.396Z"
   },
   {
    "duration": 356,
    "start_time": "2023-02-28T13:42:40.417Z"
   },
   {
    "duration": 22,
    "start_time": "2023-02-28T13:42:40.775Z"
   },
   {
    "duration": 23,
    "start_time": "2023-02-28T13:42:40.800Z"
   },
   {
    "duration": 99,
    "start_time": "2023-02-28T13:42:40.825Z"
   },
   {
    "duration": 397,
    "start_time": "2023-02-28T13:43:53.821Z"
   },
   {
    "duration": 337,
    "start_time": "2023-02-28T13:44:00.111Z"
   },
   {
    "duration": 347,
    "start_time": "2023-02-28T13:44:11.780Z"
   },
   {
    "duration": 323,
    "start_time": "2023-02-28T13:44:54.348Z"
   },
   {
    "duration": 492,
    "start_time": "2023-02-28T13:45:07.520Z"
   },
   {
    "duration": 4,
    "start_time": "2023-02-28T13:45:13.459Z"
   },
   {
    "duration": 808,
    "start_time": "2023-02-28T13:45:13.464Z"
   },
   {
    "duration": 16,
    "start_time": "2023-02-28T13:45:14.274Z"
   },
   {
    "duration": 125,
    "start_time": "2023-02-28T13:45:14.292Z"
   },
   {
    "duration": 113,
    "start_time": "2023-02-28T13:45:14.420Z"
   },
   {
    "duration": 374,
    "start_time": "2023-02-28T13:45:14.535Z"
   },
   {
    "duration": 18,
    "start_time": "2023-02-28T13:45:14.910Z"
   },
   {
    "duration": 17,
    "start_time": "2023-02-28T13:45:14.929Z"
   },
   {
    "duration": 364,
    "start_time": "2023-02-28T13:45:14.947Z"
   },
   {
    "duration": 17,
    "start_time": "2023-02-28T13:45:15.313Z"
   },
   {
    "duration": 23,
    "start_time": "2023-02-28T13:45:15.331Z"
   },
   {
    "duration": 89,
    "start_time": "2023-02-28T13:45:15.356Z"
   },
   {
    "duration": 11,
    "start_time": "2023-02-28T13:45:50.440Z"
   },
   {
    "duration": 3,
    "start_time": "2023-02-28T13:45:59.550Z"
   },
   {
    "duration": 731,
    "start_time": "2023-02-28T13:45:59.555Z"
   },
   {
    "duration": 13,
    "start_time": "2023-02-28T13:46:00.287Z"
   },
   {
    "duration": 140,
    "start_time": "2023-02-28T13:46:00.301Z"
   },
   {
    "duration": 108,
    "start_time": "2023-02-28T13:46:00.443Z"
   },
   {
    "duration": 391,
    "start_time": "2023-02-28T13:46:00.552Z"
   },
   {
    "duration": 18,
    "start_time": "2023-02-28T13:46:00.945Z"
   },
   {
    "duration": 26,
    "start_time": "2023-02-28T13:46:00.965Z"
   },
   {
    "duration": 360,
    "start_time": "2023-02-28T13:46:00.992Z"
   },
   {
    "duration": 15,
    "start_time": "2023-02-28T13:46:01.354Z"
   },
   {
    "duration": 44,
    "start_time": "2023-02-28T13:46:01.372Z"
   },
   {
    "duration": 77,
    "start_time": "2023-02-28T13:46:01.418Z"
   },
   {
    "duration": 24,
    "start_time": "2023-02-28T13:47:03.180Z"
   },
   {
    "duration": 29,
    "start_time": "2023-02-28T13:47:06.632Z"
   },
   {
    "duration": 72,
    "start_time": "2023-02-28T13:47:08.352Z"
   },
   {
    "duration": 74,
    "start_time": "2023-02-28T13:47:32.988Z"
   },
   {
    "duration": 27,
    "start_time": "2023-02-28T13:51:30.819Z"
   },
   {
    "duration": 27,
    "start_time": "2023-02-28T13:51:33.773Z"
   },
   {
    "duration": 25,
    "start_time": "2023-02-28T13:53:08.347Z"
   },
   {
    "duration": 837,
    "start_time": "2023-02-28T14:12:21.739Z"
   },
   {
    "duration": 14374,
    "start_time": "2023-02-28T14:13:29.126Z"
   },
   {
    "duration": 411,
    "start_time": "2023-02-28T14:20:57.438Z"
   },
   {
    "duration": 384,
    "start_time": "2023-02-28T14:22:01.781Z"
   },
   {
    "duration": 38,
    "start_time": "2023-02-28T14:23:14.908Z"
   },
   {
    "duration": 517,
    "start_time": "2023-02-28T14:24:42.325Z"
   },
   {
    "duration": 349,
    "start_time": "2023-02-28T14:24:57.533Z"
   },
   {
    "duration": 604,
    "start_time": "2023-02-28T14:26:28.576Z"
   },
   {
    "duration": 5,
    "start_time": "2023-02-28T14:26:39.434Z"
   },
   {
    "duration": 767,
    "start_time": "2023-02-28T14:26:39.441Z"
   },
   {
    "duration": 17,
    "start_time": "2023-02-28T14:26:40.209Z"
   },
   {
    "duration": 150,
    "start_time": "2023-02-28T14:26:40.227Z"
   },
   {
    "duration": 139,
    "start_time": "2023-02-28T14:26:40.380Z"
   },
   {
    "duration": 408,
    "start_time": "2023-02-28T14:26:40.521Z"
   },
   {
    "duration": 18,
    "start_time": "2023-02-28T14:26:40.931Z"
   },
   {
    "duration": 88,
    "start_time": "2023-02-28T14:26:40.950Z"
   },
   {
    "duration": 382,
    "start_time": "2023-02-28T14:26:41.039Z"
   },
   {
    "duration": 16,
    "start_time": "2023-02-28T14:26:41.423Z"
   },
   {
    "duration": 22,
    "start_time": "2023-02-28T14:26:41.441Z"
   },
   {
    "duration": 95,
    "start_time": "2023-02-28T14:26:41.465Z"
   },
   {
    "duration": 41,
    "start_time": "2023-02-28T14:26:41.562Z"
   },
   {
    "duration": 601,
    "start_time": "2023-02-28T14:26:41.606Z"
   },
   {
    "duration": 29,
    "start_time": "2023-02-28T14:26:42.208Z"
   },
   {
    "duration": 400,
    "start_time": "2023-02-28T14:26:42.239Z"
   },
   {
    "duration": 645,
    "start_time": "2023-02-28T14:26:57.897Z"
   },
   {
    "duration": 4,
    "start_time": "2023-02-28T14:27:45.108Z"
   },
   {
    "duration": 785,
    "start_time": "2023-02-28T14:27:45.114Z"
   },
   {
    "duration": 13,
    "start_time": "2023-02-28T14:27:45.908Z"
   },
   {
    "duration": 131,
    "start_time": "2023-02-28T14:27:45.923Z"
   },
   {
    "duration": 147,
    "start_time": "2023-02-28T14:27:46.056Z"
   },
   {
    "duration": 413,
    "start_time": "2023-02-28T14:27:46.212Z"
   },
   {
    "duration": 24,
    "start_time": "2023-02-28T14:27:46.627Z"
   },
   {
    "duration": 88,
    "start_time": "2023-02-28T14:27:46.653Z"
   },
   {
    "duration": 467,
    "start_time": "2023-02-28T14:27:46.742Z"
   },
   {
    "duration": 25,
    "start_time": "2023-02-28T14:27:47.211Z"
   },
   {
    "duration": 27,
    "start_time": "2023-02-28T14:27:47.239Z"
   },
   {
    "duration": 90,
    "start_time": "2023-02-28T14:27:47.267Z"
   },
   {
    "duration": 50,
    "start_time": "2023-02-28T14:27:47.359Z"
   },
   {
    "duration": 353,
    "start_time": "2023-02-28T14:27:47.413Z"
   },
   {
    "duration": 40,
    "start_time": "2023-02-28T14:27:47.767Z"
   },
   {
    "duration": 30,
    "start_time": "2023-02-28T14:28:47.709Z"
   },
   {
    "duration": 25,
    "start_time": "2023-02-28T14:29:34.780Z"
   },
   {
    "duration": 4,
    "start_time": "2023-02-28T14:29:40.545Z"
   },
   {
    "duration": 1192,
    "start_time": "2023-02-28T14:29:40.578Z"
   },
   {
    "duration": 20,
    "start_time": "2023-02-28T14:29:41.773Z"
   },
   {
    "duration": 232,
    "start_time": "2023-02-28T14:29:41.795Z"
   },
   {
    "duration": 244,
    "start_time": "2023-02-28T14:29:42.029Z"
   },
   {
    "duration": 580,
    "start_time": "2023-02-28T14:29:42.284Z"
   },
   {
    "duration": 33,
    "start_time": "2023-02-28T14:29:42.866Z"
   },
   {
    "duration": 136,
    "start_time": "2023-02-28T14:29:42.912Z"
   },
   {
    "duration": 532,
    "start_time": "2023-02-28T14:29:43.052Z"
   },
   {
    "duration": 30,
    "start_time": "2023-02-28T14:29:43.592Z"
   },
   {
    "duration": 45,
    "start_time": "2023-02-28T14:29:43.624Z"
   },
   {
    "duration": 99,
    "start_time": "2023-02-28T14:29:43.671Z"
   },
   {
    "duration": 35,
    "start_time": "2023-02-28T14:29:43.772Z"
   },
   {
    "duration": 549,
    "start_time": "2023-02-28T14:29:43.808Z"
   },
   {
    "duration": 32,
    "start_time": "2023-02-28T14:29:44.364Z"
   },
   {
    "duration": 105,
    "start_time": "2023-02-28T14:29:44.402Z"
   },
   {
    "duration": 248,
    "start_time": "2023-02-28T14:30:26.858Z"
   },
   {
    "duration": 3,
    "start_time": "2023-02-28T14:30:31.142Z"
   },
   {
    "duration": 832,
    "start_time": "2023-02-28T14:30:31.147Z"
   },
   {
    "duration": 24,
    "start_time": "2023-02-28T14:30:31.981Z"
   },
   {
    "duration": 174,
    "start_time": "2023-02-28T14:30:32.007Z"
   },
   {
    "duration": 145,
    "start_time": "2023-02-28T14:30:32.185Z"
   },
   {
    "duration": 406,
    "start_time": "2023-02-28T14:30:32.332Z"
   },
   {
    "duration": 514,
    "start_time": "2023-02-28T14:30:32.740Z"
   },
   {
    "duration": 43,
    "start_time": "2023-02-28T14:30:33.256Z"
   },
   {
    "duration": 70,
    "start_time": "2023-02-28T14:30:33.301Z"
   },
   {
    "duration": 366,
    "start_time": "2023-02-28T14:30:33.373Z"
   },
   {
    "duration": 17,
    "start_time": "2023-02-28T14:30:33.742Z"
   },
   {
    "duration": 49,
    "start_time": "2023-02-28T14:30:33.761Z"
   },
   {
    "duration": 67,
    "start_time": "2023-02-28T14:30:33.811Z"
   },
   {
    "duration": 26,
    "start_time": "2023-02-28T14:30:33.885Z"
   },
   {
    "duration": 392,
    "start_time": "2023-02-28T14:30:33.913Z"
   },
   {
    "duration": 22,
    "start_time": "2023-02-28T14:30:34.307Z"
   },
   {
    "duration": 30,
    "start_time": "2023-02-28T14:30:34.330Z"
   },
   {
    "duration": 75,
    "start_time": "2023-02-28T14:30:59.975Z"
   },
   {
    "duration": 1047,
    "start_time": "2023-02-28T14:32:54.877Z"
   },
   {
    "duration": 3,
    "start_time": "2023-02-28T14:33:00.980Z"
   },
   {
    "duration": 797,
    "start_time": "2023-02-28T14:33:01.003Z"
   },
   {
    "duration": 15,
    "start_time": "2023-02-28T14:33:01.803Z"
   },
   {
    "duration": 162,
    "start_time": "2023-02-28T14:33:01.819Z"
   },
   {
    "duration": 126,
    "start_time": "2023-02-28T14:33:01.982Z"
   },
   {
    "duration": 1044,
    "start_time": "2023-02-28T14:33:02.110Z"
   },
   {
    "duration": 0,
    "start_time": "2023-02-28T14:33:03.156Z"
   },
   {
    "duration": 0,
    "start_time": "2023-02-28T14:33:03.157Z"
   },
   {
    "duration": 0,
    "start_time": "2023-02-28T14:33:03.159Z"
   },
   {
    "duration": 0,
    "start_time": "2023-02-28T14:33:03.161Z"
   },
   {
    "duration": 0,
    "start_time": "2023-02-28T14:33:03.163Z"
   },
   {
    "duration": 0,
    "start_time": "2023-02-28T14:33:03.164Z"
   },
   {
    "duration": 0,
    "start_time": "2023-02-28T14:33:03.166Z"
   },
   {
    "duration": 0,
    "start_time": "2023-02-28T14:33:03.168Z"
   },
   {
    "duration": 0,
    "start_time": "2023-02-28T14:33:03.170Z"
   },
   {
    "duration": 0,
    "start_time": "2023-02-28T14:33:03.172Z"
   },
   {
    "duration": 0,
    "start_time": "2023-02-28T14:33:03.173Z"
   },
   {
    "duration": 0,
    "start_time": "2023-02-28T14:33:03.174Z"
   },
   {
    "duration": 0,
    "start_time": "2023-02-28T14:33:03.176Z"
   },
   {
    "duration": 125,
    "start_time": "2023-02-28T14:33:52.084Z"
   },
   {
    "duration": 5,
    "start_time": "2023-02-28T14:34:21.607Z"
   },
   {
    "duration": 801,
    "start_time": "2023-02-28T14:34:21.615Z"
   },
   {
    "duration": 14,
    "start_time": "2023-02-28T14:34:22.418Z"
   },
   {
    "duration": 233,
    "start_time": "2023-02-28T14:34:22.434Z"
   },
   {
    "duration": 140,
    "start_time": "2023-02-28T14:34:22.670Z"
   },
   {
    "duration": 131,
    "start_time": "2023-02-28T14:34:22.812Z"
   },
   {
    "duration": 462,
    "start_time": "2023-02-28T14:34:22.945Z"
   },
   {
    "duration": 501,
    "start_time": "2023-02-28T14:34:23.409Z"
   },
   {
    "duration": 33,
    "start_time": "2023-02-28T14:34:23.913Z"
   },
   {
    "duration": 94,
    "start_time": "2023-02-28T14:34:23.949Z"
   },
   {
    "duration": 617,
    "start_time": "2023-02-28T14:34:24.045Z"
   },
   {
    "duration": 28,
    "start_time": "2023-02-28T14:34:24.664Z"
   },
   {
    "duration": 28,
    "start_time": "2023-02-28T14:34:24.694Z"
   },
   {
    "duration": 94,
    "start_time": "2023-02-28T14:34:24.725Z"
   },
   {
    "duration": 31,
    "start_time": "2023-02-28T14:34:24.821Z"
   },
   {
    "duration": 388,
    "start_time": "2023-02-28T14:34:24.853Z"
   },
   {
    "duration": 25,
    "start_time": "2023-02-28T14:34:25.243Z"
   },
   {
    "duration": 36,
    "start_time": "2023-02-28T14:34:25.270Z"
   },
   {
    "duration": 149,
    "start_time": "2023-02-28T14:34:25.308Z"
   },
   {
    "duration": 5,
    "start_time": "2023-02-28T14:35:30.775Z"
   },
   {
    "duration": 78,
    "start_time": "2023-02-28T14:37:32.736Z"
   },
   {
    "duration": 190,
    "start_time": "2023-02-28T14:37:47.980Z"
   },
   {
    "duration": 4,
    "start_time": "2023-02-28T14:38:33.612Z"
   },
   {
    "duration": 880,
    "start_time": "2023-02-28T14:38:33.619Z"
   },
   {
    "duration": 18,
    "start_time": "2023-02-28T14:38:34.500Z"
   },
   {
    "duration": 129,
    "start_time": "2023-02-28T14:38:34.519Z"
   },
   {
    "duration": 157,
    "start_time": "2023-02-28T14:38:34.650Z"
   },
   {
    "duration": 99,
    "start_time": "2023-02-28T14:38:34.809Z"
   },
   {
    "duration": 489,
    "start_time": "2023-02-28T14:38:34.910Z"
   },
   {
    "duration": 493,
    "start_time": "2023-02-28T14:38:35.401Z"
   },
   {
    "duration": 28,
    "start_time": "2023-02-28T14:38:35.904Z"
   },
   {
    "duration": 79,
    "start_time": "2023-02-28T14:38:35.934Z"
   },
   {
    "duration": 404,
    "start_time": "2023-02-28T14:38:36.015Z"
   },
   {
    "duration": 21,
    "start_time": "2023-02-28T14:38:36.421Z"
   },
   {
    "duration": 10,
    "start_time": "2023-02-28T14:38:36.444Z"
   },
   {
    "duration": 58,
    "start_time": "2023-02-28T14:38:36.457Z"
   },
   {
    "duration": 19,
    "start_time": "2023-02-28T14:38:36.517Z"
   },
   {
    "duration": 322,
    "start_time": "2023-02-28T14:38:36.540Z"
   },
   {
    "duration": 6,
    "start_time": "2023-02-28T14:38:36.864Z"
   },
   {
    "duration": 22,
    "start_time": "2023-02-28T14:38:36.872Z"
   },
   {
    "duration": 20,
    "start_time": "2023-02-28T14:38:36.896Z"
   },
   {
    "duration": 17,
    "start_time": "2023-02-28T14:38:36.919Z"
   },
   {
    "duration": 12,
    "start_time": "2023-02-28T14:38:36.939Z"
   },
   {
    "duration": 39,
    "start_time": "2023-02-28T14:39:22.906Z"
   },
   {
    "duration": 12,
    "start_time": "2023-02-28T14:40:04.596Z"
   },
   {
    "duration": 851,
    "start_time": "2023-02-28T14:40:04.611Z"
   },
   {
    "duration": 13,
    "start_time": "2023-02-28T14:40:05.464Z"
   },
   {
    "duration": 206,
    "start_time": "2023-02-28T14:40:05.494Z"
   },
   {
    "duration": 151,
    "start_time": "2023-02-28T14:40:05.706Z"
   },
   {
    "duration": 120,
    "start_time": "2023-02-28T14:40:05.859Z"
   },
   {
    "duration": 494,
    "start_time": "2023-02-28T14:40:05.981Z"
   },
   {
    "duration": 526,
    "start_time": "2023-02-28T14:40:06.477Z"
   },
   {
    "duration": 30,
    "start_time": "2023-02-28T14:40:07.004Z"
   },
   {
    "duration": 85,
    "start_time": "2023-02-28T14:40:07.036Z"
   },
   {
    "duration": 456,
    "start_time": "2023-02-28T14:40:07.123Z"
   },
   {
    "duration": 29,
    "start_time": "2023-02-28T14:40:07.581Z"
   },
   {
    "duration": 59,
    "start_time": "2023-02-28T14:40:07.615Z"
   },
   {
    "duration": 139,
    "start_time": "2023-02-28T14:40:07.678Z"
   },
   {
    "duration": 34,
    "start_time": "2023-02-28T14:40:07.819Z"
   },
   {
    "duration": 382,
    "start_time": "2023-02-28T14:40:07.855Z"
   },
   {
    "duration": 24,
    "start_time": "2023-02-28T14:40:08.239Z"
   },
   {
    "duration": 46,
    "start_time": "2023-02-28T14:40:08.265Z"
   },
   {
    "duration": 111,
    "start_time": "2023-02-28T14:40:08.313Z"
   },
   {
    "duration": 101,
    "start_time": "2023-02-28T14:40:08.426Z"
   },
   {
    "duration": 179,
    "start_time": "2023-02-28T14:40:08.528Z"
   },
   {
    "duration": 64,
    "start_time": "2023-02-28T14:40:08.712Z"
   },
   {
    "duration": 9,
    "start_time": "2023-02-28T14:40:46.324Z"
   },
   {
    "duration": 14,
    "start_time": "2023-02-28T14:40:57.566Z"
   },
   {
    "duration": 7,
    "start_time": "2023-02-28T14:40:58.809Z"
   },
   {
    "duration": 27,
    "start_time": "2023-02-28T14:40:59.248Z"
   },
   {
    "duration": 10,
    "start_time": "2023-02-28T14:41:00.228Z"
   },
   {
    "duration": 351,
    "start_time": "2023-02-28T14:41:00.736Z"
   },
   {
    "duration": 7,
    "start_time": "2023-02-28T14:41:02.113Z"
   },
   {
    "duration": 13,
    "start_time": "2023-02-28T14:41:03.178Z"
   },
   {
    "duration": 14,
    "start_time": "2023-02-28T14:41:03.605Z"
   },
   {
    "duration": 7,
    "start_time": "2023-02-28T14:41:04.141Z"
   },
   {
    "duration": 9,
    "start_time": "2023-02-28T14:41:05.543Z"
   },
   {
    "duration": 1327,
    "start_time": "2023-02-28T14:43:11.401Z"
   },
   {
    "duration": 809,
    "start_time": "2023-02-28T14:43:12.731Z"
   },
   {
    "duration": 23,
    "start_time": "2023-02-28T14:43:13.542Z"
   },
   {
    "duration": 155,
    "start_time": "2023-02-28T14:43:13.566Z"
   },
   {
    "duration": 139,
    "start_time": "2023-02-28T14:43:13.725Z"
   },
   {
    "duration": 99,
    "start_time": "2023-02-28T14:43:13.866Z"
   },
   {
    "duration": 480,
    "start_time": "2023-02-28T14:43:13.968Z"
   },
   {
    "duration": 560,
    "start_time": "2023-02-28T14:43:14.449Z"
   },
   {
    "duration": 37,
    "start_time": "2023-02-28T14:43:15.010Z"
   },
   {
    "duration": 94,
    "start_time": "2023-02-28T14:43:15.049Z"
   },
   {
    "duration": 537,
    "start_time": "2023-02-28T14:43:15.144Z"
   },
   {
    "duration": 30,
    "start_time": "2023-02-28T14:43:15.683Z"
   },
   {
    "duration": 8,
    "start_time": "2023-02-28T14:43:15.716Z"
   },
   {
    "duration": 23,
    "start_time": "2023-02-28T14:43:15.727Z"
   },
   {
    "duration": 11,
    "start_time": "2023-02-28T14:43:15.752Z"
   },
   {
    "duration": 378,
    "start_time": "2023-02-28T14:43:15.765Z"
   },
   {
    "duration": 7,
    "start_time": "2023-02-28T14:43:16.145Z"
   },
   {
    "duration": 7,
    "start_time": "2023-02-28T14:43:16.154Z"
   },
   {
    "duration": 36,
    "start_time": "2023-02-28T14:43:16.163Z"
   },
   {
    "duration": 10,
    "start_time": "2023-02-28T14:43:16.201Z"
   },
   {
    "duration": 12,
    "start_time": "2023-02-28T14:43:16.213Z"
   },
   {
    "duration": 21,
    "start_time": "2023-02-28T14:43:16.227Z"
   },
   {
    "duration": 6,
    "start_time": "2023-02-28T14:45:54.353Z"
   },
   {
    "duration": 7,
    "start_time": "2023-02-28T14:45:55.373Z"
   },
   {
    "duration": 14,
    "start_time": "2023-02-28T14:46:01.314Z"
   },
   {
    "duration": 15,
    "start_time": "2023-02-28T14:47:35.283Z"
   },
   {
    "duration": 13,
    "start_time": "2023-02-28T14:47:37.347Z"
   },
   {
    "duration": 8,
    "start_time": "2023-02-28T14:47:38.228Z"
   },
   {
    "duration": 18,
    "start_time": "2023-02-28T14:47:38.587Z"
   },
   {
    "duration": 33,
    "start_time": "2023-02-28T14:47:39.063Z"
   },
   {
    "duration": 5,
    "start_time": "2023-02-28T14:48:27.506Z"
   },
   {
    "duration": 913,
    "start_time": "2023-02-28T14:48:27.513Z"
   },
   {
    "duration": 19,
    "start_time": "2023-02-28T14:48:28.429Z"
   },
   {
    "duration": 160,
    "start_time": "2023-02-28T14:48:28.451Z"
   },
   {
    "duration": 231,
    "start_time": "2023-02-28T14:48:28.614Z"
   },
   {
    "duration": 459,
    "start_time": "2023-02-28T14:48:28.846Z"
   },
   {
    "duration": 509,
    "start_time": "2023-02-28T14:48:29.307Z"
   },
   {
    "duration": 27,
    "start_time": "2023-02-28T14:48:29.817Z"
   },
   {
    "duration": 99,
    "start_time": "2023-02-28T14:48:29.845Z"
   },
   {
    "duration": 393,
    "start_time": "2023-02-28T14:48:29.947Z"
   },
   {
    "duration": 16,
    "start_time": "2023-02-28T14:48:30.341Z"
   },
   {
    "duration": 36,
    "start_time": "2023-02-28T14:48:30.359Z"
   },
   {
    "duration": 100,
    "start_time": "2023-02-28T14:48:30.396Z"
   },
   {
    "duration": 34,
    "start_time": "2023-02-28T14:48:30.499Z"
   },
   {
    "duration": 408,
    "start_time": "2023-02-28T14:48:30.534Z"
   },
   {
    "duration": 8,
    "start_time": "2023-02-28T14:48:30.945Z"
   },
   {
    "duration": 72,
    "start_time": "2023-02-28T14:48:30.955Z"
   },
   {
    "duration": 63,
    "start_time": "2023-02-28T14:48:31.028Z"
   },
   {
    "duration": 74,
    "start_time": "2023-02-28T14:48:31.094Z"
   },
   {
    "duration": 46,
    "start_time": "2023-02-28T14:48:31.169Z"
   },
   {
    "duration": 42,
    "start_time": "2023-02-28T14:48:31.216Z"
   },
   {
    "duration": 71,
    "start_time": "2023-02-28T14:48:31.260Z"
   },
   {
    "duration": 3,
    "start_time": "2023-02-28T14:48:49.049Z"
   },
   {
    "duration": 809,
    "start_time": "2023-02-28T14:48:49.054Z"
   },
   {
    "duration": 14,
    "start_time": "2023-02-28T14:48:49.865Z"
   },
   {
    "duration": 136,
    "start_time": "2023-02-28T14:48:49.886Z"
   },
   {
    "duration": 127,
    "start_time": "2023-02-28T14:48:50.024Z"
   },
   {
    "duration": 422,
    "start_time": "2023-02-28T14:48:50.153Z"
   },
   {
    "duration": 500,
    "start_time": "2023-02-28T14:48:50.578Z"
   },
   {
    "duration": 32,
    "start_time": "2023-02-28T14:48:51.079Z"
   },
   {
    "duration": 90,
    "start_time": "2023-02-28T14:48:51.112Z"
   },
   {
    "duration": 459,
    "start_time": "2023-02-28T14:48:51.204Z"
   },
   {
    "duration": 39,
    "start_time": "2023-02-28T14:48:51.665Z"
   },
   {
    "duration": 11,
    "start_time": "2023-02-28T14:48:51.710Z"
   },
   {
    "duration": 30,
    "start_time": "2023-02-28T14:48:51.724Z"
   },
   {
    "duration": 13,
    "start_time": "2023-02-28T14:48:51.757Z"
   },
   {
    "duration": 376,
    "start_time": "2023-02-28T14:48:51.792Z"
   },
   {
    "duration": 21,
    "start_time": "2023-02-28T14:48:52.170Z"
   },
   {
    "duration": 31,
    "start_time": "2023-02-28T14:48:52.192Z"
   },
   {
    "duration": 19,
    "start_time": "2023-02-28T14:48:52.225Z"
   },
   {
    "duration": 33,
    "start_time": "2023-02-28T14:48:52.245Z"
   },
   {
    "duration": 48,
    "start_time": "2023-02-28T14:48:52.280Z"
   },
   {
    "duration": 13,
    "start_time": "2023-02-28T14:48:52.330Z"
   },
   {
    "duration": 34,
    "start_time": "2023-02-28T14:48:52.345Z"
   },
   {
    "duration": 3,
    "start_time": "2023-02-28T14:49:25.952Z"
   },
   {
    "duration": 826,
    "start_time": "2023-02-28T14:49:25.957Z"
   },
   {
    "duration": 20,
    "start_time": "2023-02-28T14:49:26.786Z"
   },
   {
    "duration": 215,
    "start_time": "2023-02-28T14:49:26.810Z"
   },
   {
    "duration": 141,
    "start_time": "2023-02-28T14:49:27.028Z"
   },
   {
    "duration": 429,
    "start_time": "2023-02-28T14:49:27.171Z"
   },
   {
    "duration": 465,
    "start_time": "2023-02-28T14:49:27.602Z"
   },
   {
    "duration": 36,
    "start_time": "2023-02-28T14:49:28.068Z"
   },
   {
    "duration": 94,
    "start_time": "2023-02-28T14:49:28.106Z"
   },
   {
    "duration": 376,
    "start_time": "2023-02-28T14:49:28.202Z"
   },
   {
    "duration": 25,
    "start_time": "2023-02-28T14:49:28.581Z"
   },
   {
    "duration": 12,
    "start_time": "2023-02-28T14:49:28.608Z"
   },
   {
    "duration": 33,
    "start_time": "2023-02-28T14:49:28.622Z"
   },
   {
    "duration": 40,
    "start_time": "2023-02-28T14:49:28.657Z"
   },
   {
    "duration": 401,
    "start_time": "2023-02-28T14:49:28.699Z"
   },
   {
    "duration": 8,
    "start_time": "2023-02-28T14:49:29.102Z"
   },
   {
    "duration": 13,
    "start_time": "2023-02-28T14:49:29.112Z"
   },
   {
    "duration": 14,
    "start_time": "2023-02-28T14:49:29.127Z"
   },
   {
    "duration": 8,
    "start_time": "2023-02-28T14:49:29.143Z"
   },
   {
    "duration": 12,
    "start_time": "2023-02-28T14:49:29.152Z"
   },
   {
    "duration": 44,
    "start_time": "2023-02-28T14:49:29.166Z"
   },
   {
    "duration": 4,
    "start_time": "2023-02-28T14:50:09.757Z"
   },
   {
    "duration": 754,
    "start_time": "2023-02-28T14:50:09.764Z"
   },
   {
    "duration": 13,
    "start_time": "2023-02-28T14:50:10.519Z"
   },
   {
    "duration": 142,
    "start_time": "2023-02-28T14:50:10.535Z"
   },
   {
    "duration": 135,
    "start_time": "2023-02-28T14:50:10.679Z"
   },
   {
    "duration": 399,
    "start_time": "2023-02-28T14:50:10.815Z"
   },
   {
    "duration": 495,
    "start_time": "2023-02-28T14:50:11.216Z"
   },
   {
    "duration": 38,
    "start_time": "2023-02-28T14:50:11.713Z"
   },
   {
    "duration": 94,
    "start_time": "2023-02-28T14:50:11.754Z"
   },
   {
    "duration": 416,
    "start_time": "2023-02-28T14:50:11.850Z"
   },
   {
    "duration": 39,
    "start_time": "2023-02-28T14:50:12.268Z"
   },
   {
    "duration": 25,
    "start_time": "2023-02-28T14:50:12.309Z"
   },
   {
    "duration": 87,
    "start_time": "2023-02-28T14:50:12.336Z"
   },
   {
    "duration": 25,
    "start_time": "2023-02-28T14:50:12.425Z"
   },
   {
    "duration": 374,
    "start_time": "2023-02-28T14:50:12.451Z"
   },
   {
    "duration": 29,
    "start_time": "2023-02-28T14:50:12.828Z"
   },
   {
    "duration": 102,
    "start_time": "2023-02-28T14:50:12.858Z"
   },
   {
    "duration": 81,
    "start_time": "2023-02-28T14:50:12.962Z"
   },
   {
    "duration": 76,
    "start_time": "2023-02-28T14:50:13.045Z"
   },
   {
    "duration": 160,
    "start_time": "2023-02-28T14:50:13.123Z"
   },
   {
    "duration": 70,
    "start_time": "2023-02-28T14:50:13.285Z"
   },
   {
    "duration": 28,
    "start_time": "2023-02-28T14:51:45.433Z"
   },
   {
    "duration": 68,
    "start_time": "2023-02-28T14:51:45.961Z"
   },
   {
    "duration": 93,
    "start_time": "2023-02-28T14:51:46.484Z"
   },
   {
    "duration": 32,
    "start_time": "2023-02-28T14:51:53.471Z"
   },
   {
    "duration": 96,
    "start_time": "2023-02-28T14:51:54.503Z"
   },
   {
    "duration": 128,
    "start_time": "2023-02-28T14:51:54.801Z"
   },
   {
    "duration": 29,
    "start_time": "2023-02-28T14:52:01.029Z"
   },
   {
    "duration": 77,
    "start_time": "2023-02-28T14:52:01.438Z"
   },
   {
    "duration": 72,
    "start_time": "2023-02-28T14:52:01.821Z"
   },
   {
    "duration": 111,
    "start_time": "2023-02-28T14:52:12.416Z"
   },
   {
    "duration": 83,
    "start_time": "2023-02-28T14:52:13.488Z"
   },
   {
    "duration": 15,
    "start_time": "2023-02-28T16:02:02.841Z"
   },
   {
    "duration": 52,
    "start_time": "2023-02-28T19:53:34.337Z"
   },
   {
    "duration": 1238,
    "start_time": "2023-02-28T19:53:40.359Z"
   },
   {
    "duration": 2844,
    "start_time": "2023-02-28T19:53:41.599Z"
   },
   {
    "duration": 19,
    "start_time": "2023-02-28T19:53:44.445Z"
   },
   {
    "duration": 133,
    "start_time": "2023-02-28T19:53:44.466Z"
   },
   {
    "duration": 177,
    "start_time": "2023-02-28T19:53:44.602Z"
   },
   {
    "duration": 505,
    "start_time": "2023-02-28T19:53:44.781Z"
   },
   {
    "duration": 525,
    "start_time": "2023-02-28T19:53:45.288Z"
   },
   {
    "duration": 36,
    "start_time": "2023-02-28T19:53:45.815Z"
   },
   {
    "duration": 84,
    "start_time": "2023-02-28T19:53:45.853Z"
   },
   {
    "duration": 698,
    "start_time": "2023-02-28T19:53:45.939Z"
   },
   {
    "duration": 18,
    "start_time": "2023-02-28T19:53:46.639Z"
   },
   {
    "duration": 112,
    "start_time": "2023-02-28T19:53:46.658Z"
   },
   {
    "duration": 77,
    "start_time": "2023-02-28T19:53:46.772Z"
   },
   {
    "duration": 23,
    "start_time": "2023-02-28T19:53:46.852Z"
   },
   {
    "duration": 369,
    "start_time": "2023-02-28T19:53:46.876Z"
   },
   {
    "duration": 23,
    "start_time": "2023-02-28T19:53:47.247Z"
   },
   {
    "duration": 49,
    "start_time": "2023-02-28T19:53:47.272Z"
   },
   {
    "duration": 68,
    "start_time": "2023-02-28T19:53:47.323Z"
   },
   {
    "duration": 89,
    "start_time": "2023-02-28T19:53:47.392Z"
   },
   {
    "duration": 78,
    "start_time": "2023-02-28T19:53:47.482Z"
   },
   {
    "duration": 13,
    "start_time": "2023-02-28T19:53:47.562Z"
   },
   {
    "duration": 85,
    "start_time": "2023-02-28T19:53:47.577Z"
   },
   {
    "duration": 93,
    "start_time": "2023-02-28T19:56:14.464Z"
   },
   {
    "duration": 680,
    "start_time": "2023-02-28T19:59:51.713Z"
   },
   {
    "duration": 83,
    "start_time": "2023-02-28T20:00:50.388Z"
   },
   {
    "duration": 10,
    "start_time": "2023-02-28T20:00:55.593Z"
   },
   {
    "duration": 6,
    "start_time": "2023-02-28T20:02:54.684Z"
   },
   {
    "duration": 953,
    "start_time": "2023-02-28T20:02:54.692Z"
   },
   {
    "duration": 16,
    "start_time": "2023-02-28T20:02:55.647Z"
   },
   {
    "duration": 152,
    "start_time": "2023-02-28T20:02:55.665Z"
   },
   {
    "duration": 203,
    "start_time": "2023-02-28T20:02:55.820Z"
   },
   {
    "duration": 465,
    "start_time": "2023-02-28T20:02:56.025Z"
   },
   {
    "duration": 515,
    "start_time": "2023-02-28T20:02:56.492Z"
   },
   {
    "duration": 30,
    "start_time": "2023-02-28T20:02:57.009Z"
   },
   {
    "duration": 68,
    "start_time": "2023-02-28T20:02:57.041Z"
   },
   {
    "duration": 394,
    "start_time": "2023-02-28T20:02:57.111Z"
   },
   {
    "duration": 24,
    "start_time": "2023-02-28T20:02:57.506Z"
   },
   {
    "duration": 22,
    "start_time": "2023-02-28T20:02:57.531Z"
   },
   {
    "duration": 87,
    "start_time": "2023-02-28T20:02:57.556Z"
   },
   {
    "duration": 23,
    "start_time": "2023-02-28T20:02:57.645Z"
   },
   {
    "duration": 370,
    "start_time": "2023-02-28T20:02:57.670Z"
   },
   {
    "duration": 23,
    "start_time": "2023-02-28T20:02:58.042Z"
   },
   {
    "duration": 32,
    "start_time": "2023-02-28T20:02:58.066Z"
   },
   {
    "duration": 85,
    "start_time": "2023-02-28T20:02:58.099Z"
   },
   {
    "duration": 95,
    "start_time": "2023-02-28T20:02:58.186Z"
   },
   {
    "duration": 104,
    "start_time": "2023-02-28T20:02:58.282Z"
   },
   {
    "duration": 1209,
    "start_time": "2023-02-28T20:02:58.389Z"
   },
   {
    "duration": 16,
    "start_time": "2023-02-28T20:02:59.600Z"
   },
   {
    "duration": 64,
    "start_time": "2023-02-28T20:02:59.621Z"
   },
   {
    "duration": 4,
    "start_time": "2023-02-28T20:02:59.687Z"
   },
   {
    "duration": 3,
    "start_time": "2023-02-28T20:19:40.721Z"
   },
   {
    "duration": 642,
    "start_time": "2023-02-28T20:59:52.507Z"
   },
   {
    "duration": 67,
    "start_time": "2023-02-28T21:00:58.280Z"
   },
   {
    "duration": 186,
    "start_time": "2023-02-28T21:01:40.965Z"
   },
   {
    "duration": 278,
    "start_time": "2023-02-28T21:01:41.699Z"
   },
   {
    "duration": 12,
    "start_time": "2023-02-28T21:03:10.874Z"
   },
   {
    "duration": 7,
    "start_time": "2023-02-28T21:04:28.258Z"
   },
   {
    "duration": 4,
    "start_time": "2023-02-28T21:04:57.179Z"
   },
   {
    "duration": 54,
    "start_time": "2023-02-28T21:05:18.932Z"
   },
   {
    "duration": 1474,
    "start_time": "2023-02-28T21:05:24.339Z"
   },
   {
    "duration": 3205,
    "start_time": "2023-02-28T21:05:25.815Z"
   },
   {
    "duration": 20,
    "start_time": "2023-02-28T21:05:29.021Z"
   },
   {
    "duration": 141,
    "start_time": "2023-02-28T21:05:29.043Z"
   },
   {
    "duration": 134,
    "start_time": "2023-02-28T21:05:29.187Z"
   },
   {
    "duration": 501,
    "start_time": "2023-02-28T21:05:29.323Z"
   },
   {
    "duration": 612,
    "start_time": "2023-02-28T21:05:29.825Z"
   },
   {
    "duration": 38,
    "start_time": "2023-02-28T21:05:30.439Z"
   },
   {
    "duration": 91,
    "start_time": "2023-02-28T21:05:30.479Z"
   },
   {
    "duration": 533,
    "start_time": "2023-02-28T21:05:30.572Z"
   },
   {
    "duration": 29,
    "start_time": "2023-02-28T21:05:31.107Z"
   },
   {
    "duration": 28,
    "start_time": "2023-02-28T21:05:31.138Z"
   },
   {
    "duration": 86,
    "start_time": "2023-02-28T21:05:31.168Z"
   },
   {
    "duration": 23,
    "start_time": "2023-02-28T21:05:31.257Z"
   },
   {
    "duration": 455,
    "start_time": "2023-02-28T21:05:31.282Z"
   },
   {
    "duration": 22,
    "start_time": "2023-02-28T21:05:31.739Z"
   },
   {
    "duration": 25,
    "start_time": "2023-02-28T21:05:31.763Z"
   },
   {
    "duration": 84,
    "start_time": "2023-02-28T21:05:31.790Z"
   },
   {
    "duration": 88,
    "start_time": "2023-02-28T21:05:31.876Z"
   },
   {
    "duration": 87,
    "start_time": "2023-02-28T21:05:31.965Z"
   },
   {
    "duration": 754,
    "start_time": "2023-02-28T21:05:32.054Z"
   },
   {
    "duration": 196,
    "start_time": "2023-02-28T21:05:32.810Z"
   },
   {
    "duration": 294,
    "start_time": "2023-02-28T21:05:33.008Z"
   },
   {
    "duration": 4,
    "start_time": "2023-02-28T21:05:33.304Z"
   },
   {
    "duration": 1347,
    "start_time": "2023-02-28T21:06:12.195Z"
   },
   {
    "duration": 3067,
    "start_time": "2023-02-28T21:06:13.545Z"
   },
   {
    "duration": 21,
    "start_time": "2023-02-28T21:06:16.614Z"
   },
   {
    "duration": 141,
    "start_time": "2023-02-28T21:06:16.637Z"
   },
   {
    "duration": 142,
    "start_time": "2023-02-28T21:06:16.781Z"
   },
   {
    "duration": 526,
    "start_time": "2023-02-28T21:06:16.926Z"
   },
   {
    "duration": 628,
    "start_time": "2023-02-28T21:06:17.454Z"
   },
   {
    "duration": 38,
    "start_time": "2023-02-28T21:06:18.083Z"
   },
   {
    "duration": 85,
    "start_time": "2023-02-28T21:06:18.124Z"
   },
   {
    "duration": 574,
    "start_time": "2023-02-28T21:06:18.211Z"
   },
   {
    "duration": 34,
    "start_time": "2023-02-28T21:06:18.787Z"
   },
   {
    "duration": 34,
    "start_time": "2023-02-28T21:06:18.823Z"
   },
   {
    "duration": 106,
    "start_time": "2023-02-28T21:06:18.859Z"
   },
   {
    "duration": 29,
    "start_time": "2023-02-28T21:06:18.969Z"
   },
   {
    "duration": 501,
    "start_time": "2023-02-28T21:06:18.999Z"
   },
   {
    "duration": 30,
    "start_time": "2023-02-28T21:06:19.502Z"
   },
   {
    "duration": 25,
    "start_time": "2023-02-28T21:06:19.534Z"
   },
   {
    "duration": 125,
    "start_time": "2023-02-28T21:06:19.561Z"
   },
   {
    "duration": 88,
    "start_time": "2023-02-28T21:06:19.688Z"
   },
   {
    "duration": 87,
    "start_time": "2023-02-28T21:06:19.778Z"
   },
   {
    "duration": 840,
    "start_time": "2023-02-28T21:06:19.866Z"
   },
   {
    "duration": 198,
    "start_time": "2023-02-28T21:06:20.708Z"
   },
   {
    "duration": 298,
    "start_time": "2023-02-28T21:06:20.908Z"
   },
   {
    "duration": 4,
    "start_time": "2023-02-28T21:06:21.208Z"
   },
   {
    "duration": 71,
    "start_time": "2023-02-28T21:08:54.565Z"
   },
   {
    "duration": 1421,
    "start_time": "2023-02-28T21:09:02.273Z"
   },
   {
    "duration": 3443,
    "start_time": "2023-02-28T21:09:03.697Z"
   },
   {
    "duration": 21,
    "start_time": "2023-02-28T21:09:07.142Z"
   },
   {
    "duration": 136,
    "start_time": "2023-02-28T21:09:07.167Z"
   },
   {
    "duration": 163,
    "start_time": "2023-02-28T21:09:07.306Z"
   },
   {
    "duration": 494,
    "start_time": "2023-02-28T21:09:07.470Z"
   },
   {
    "duration": 583,
    "start_time": "2023-02-28T21:09:07.966Z"
   },
   {
    "duration": 36,
    "start_time": "2023-02-28T21:09:08.551Z"
   },
   {
    "duration": 84,
    "start_time": "2023-02-28T21:09:08.589Z"
   },
   {
    "duration": 540,
    "start_time": "2023-02-28T21:09:08.677Z"
   },
   {
    "duration": 23,
    "start_time": "2023-02-28T21:09:09.218Z"
   },
   {
    "duration": 27,
    "start_time": "2023-02-28T21:09:09.242Z"
   },
   {
    "duration": 91,
    "start_time": "2023-02-28T21:09:09.271Z"
   },
   {
    "duration": 22,
    "start_time": "2023-02-28T21:09:09.364Z"
   },
   {
    "duration": 436,
    "start_time": "2023-02-28T21:09:09.388Z"
   },
   {
    "duration": 23,
    "start_time": "2023-02-28T21:09:09.825Z"
   },
   {
    "duration": 24,
    "start_time": "2023-02-28T21:09:09.849Z"
   },
   {
    "duration": 87,
    "start_time": "2023-02-28T21:09:09.874Z"
   },
   {
    "duration": 73,
    "start_time": "2023-02-28T21:09:09.963Z"
   },
   {
    "duration": 65,
    "start_time": "2023-02-28T21:09:10.037Z"
   },
   {
    "duration": 714,
    "start_time": "2023-02-28T21:09:10.104Z"
   },
   {
    "duration": 188,
    "start_time": "2023-02-28T21:09:10.819Z"
   },
   {
    "duration": 285,
    "start_time": "2023-02-28T21:09:11.008Z"
   },
   {
    "duration": 3,
    "start_time": "2023-02-28T21:09:11.294Z"
   },
   {
    "duration": 66,
    "start_time": "2023-02-28T21:09:23.173Z"
   },
   {
    "duration": 1317,
    "start_time": "2023-02-28T21:09:45.729Z"
   },
   {
    "duration": 3186,
    "start_time": "2023-02-28T21:09:47.048Z"
   },
   {
    "duration": 21,
    "start_time": "2023-02-28T21:09:50.236Z"
   },
   {
    "duration": 134,
    "start_time": "2023-02-28T21:09:50.259Z"
   },
   {
    "duration": 150,
    "start_time": "2023-02-28T21:09:50.397Z"
   },
   {
    "duration": 474,
    "start_time": "2023-02-28T21:09:50.548Z"
   },
   {
    "duration": 571,
    "start_time": "2023-02-28T21:09:51.024Z"
   },
   {
    "duration": 35,
    "start_time": "2023-02-28T21:09:51.597Z"
   },
   {
    "duration": 73,
    "start_time": "2023-02-28T21:09:51.634Z"
   },
   {
    "duration": 536,
    "start_time": "2023-02-28T21:09:51.708Z"
   },
   {
    "duration": 19,
    "start_time": "2023-02-28T21:09:52.246Z"
   },
   {
    "duration": 26,
    "start_time": "2023-02-28T21:09:52.267Z"
   },
   {
    "duration": 86,
    "start_time": "2023-02-28T21:09:52.295Z"
   },
   {
    "duration": 40,
    "start_time": "2023-02-28T21:09:52.384Z"
   },
   {
    "duration": 430,
    "start_time": "2023-02-28T21:09:52.425Z"
   },
   {
    "duration": 23,
    "start_time": "2023-02-28T21:09:52.857Z"
   },
   {
    "duration": 41,
    "start_time": "2023-02-28T21:09:52.882Z"
   },
   {
    "duration": 66,
    "start_time": "2023-02-28T21:09:52.924Z"
   },
   {
    "duration": 85,
    "start_time": "2023-02-28T21:09:52.992Z"
   },
   {
    "duration": 79,
    "start_time": "2023-02-28T21:09:53.079Z"
   },
   {
    "duration": 658,
    "start_time": "2023-02-28T21:09:53.160Z"
   },
   {
    "duration": 193,
    "start_time": "2023-02-28T21:09:53.821Z"
   },
   {
    "duration": 348,
    "start_time": "2023-02-28T21:09:54.015Z"
   },
   {
    "duration": 4,
    "start_time": "2023-02-28T21:09:54.365Z"
   },
   {
    "duration": 12,
    "start_time": "2023-02-28T21:09:54.371Z"
   },
   {
    "duration": 204,
    "start_time": "2023-02-28T21:09:54.385Z"
   },
   {
    "duration": 3,
    "start_time": "2023-02-28T21:09:54.591Z"
   },
   {
    "duration": 2,
    "start_time": "2023-02-28T21:14:09.512Z"
   },
   {
    "duration": 1733,
    "start_time": "2023-02-28T21:14:13.678Z"
   },
   {
    "duration": 47,
    "start_time": "2023-02-28T21:24:52.160Z"
   },
   {
    "duration": 1390,
    "start_time": "2023-02-28T21:24:58.974Z"
   },
   {
    "duration": 3022,
    "start_time": "2023-02-28T21:25:00.366Z"
   },
   {
    "duration": 20,
    "start_time": "2023-02-28T21:25:03.390Z"
   },
   {
    "duration": 141,
    "start_time": "2023-02-28T21:25:03.412Z"
   },
   {
    "duration": 131,
    "start_time": "2023-02-28T21:25:03.556Z"
   },
   {
    "duration": 516,
    "start_time": "2023-02-28T21:25:03.689Z"
   },
   {
    "duration": 695,
    "start_time": "2023-02-28T21:25:04.206Z"
   },
   {
    "duration": 40,
    "start_time": "2023-02-28T21:25:04.903Z"
   },
   {
    "duration": 85,
    "start_time": "2023-02-28T21:25:04.944Z"
   },
   {
    "duration": 551,
    "start_time": "2023-02-28T21:25:05.031Z"
   },
   {
    "duration": 37,
    "start_time": "2023-02-28T21:25:05.585Z"
   },
   {
    "duration": 35,
    "start_time": "2023-02-28T21:25:05.625Z"
   },
   {
    "duration": 84,
    "start_time": "2023-02-28T21:25:05.662Z"
   },
   {
    "duration": 23,
    "start_time": "2023-02-28T21:25:05.750Z"
   },
   {
    "duration": 451,
    "start_time": "2023-02-28T21:25:05.775Z"
   },
   {
    "duration": 22,
    "start_time": "2023-02-28T21:25:06.227Z"
   },
   {
    "duration": 24,
    "start_time": "2023-02-28T21:25:06.251Z"
   },
   {
    "duration": 87,
    "start_time": "2023-02-28T21:25:06.277Z"
   },
   {
    "duration": 77,
    "start_time": "2023-02-28T21:25:06.366Z"
   },
   {
    "duration": 81,
    "start_time": "2023-02-28T21:25:06.444Z"
   },
   {
    "duration": 725,
    "start_time": "2023-02-28T21:25:06.526Z"
   },
   {
    "duration": 187,
    "start_time": "2023-02-28T21:25:07.252Z"
   },
   {
    "duration": 286,
    "start_time": "2023-02-28T21:25:07.441Z"
   },
   {
    "duration": 4,
    "start_time": "2023-02-28T21:25:07.729Z"
   },
   {
    "duration": 6082,
    "start_time": "2023-02-28T21:25:07.735Z"
   },
   {
    "duration": 4,
    "start_time": "2023-02-28T21:25:13.819Z"
   },
   {
    "duration": 28,
    "start_time": "2023-02-28T21:25:13.826Z"
   },
   {
    "duration": 57,
    "start_time": "2023-02-28T21:30:38.841Z"
   },
   {
    "duration": 1440,
    "start_time": "2023-02-28T21:30:50.065Z"
   },
   {
    "duration": 3178,
    "start_time": "2023-02-28T21:30:51.508Z"
   },
   {
    "duration": 27,
    "start_time": "2023-02-28T21:30:54.688Z"
   },
   {
    "duration": 155,
    "start_time": "2023-02-28T21:30:54.716Z"
   },
   {
    "duration": 154,
    "start_time": "2023-02-28T21:30:54.873Z"
   },
   {
    "duration": 481,
    "start_time": "2023-02-28T21:30:55.029Z"
   },
   {
    "duration": 575,
    "start_time": "2023-02-28T21:30:55.511Z"
   },
   {
    "duration": 39,
    "start_time": "2023-02-28T21:30:56.088Z"
   },
   {
    "duration": 74,
    "start_time": "2023-02-28T21:30:56.129Z"
   },
   {
    "duration": 528,
    "start_time": "2023-02-28T21:30:56.205Z"
   },
   {
    "duration": 19,
    "start_time": "2023-02-28T21:30:56.735Z"
   },
   {
    "duration": 26,
    "start_time": "2023-02-28T21:30:56.756Z"
   },
   {
    "duration": 91,
    "start_time": "2023-02-28T21:30:56.784Z"
   },
   {
    "duration": 24,
    "start_time": "2023-02-28T21:30:56.878Z"
   },
   {
    "duration": 443,
    "start_time": "2023-02-28T21:30:56.920Z"
   },
   {
    "duration": 22,
    "start_time": "2023-02-28T21:30:57.365Z"
   },
   {
    "duration": 40,
    "start_time": "2023-02-28T21:30:57.389Z"
   },
   {
    "duration": 66,
    "start_time": "2023-02-28T21:30:57.431Z"
   },
   {
    "duration": 91,
    "start_time": "2023-02-28T21:30:57.498Z"
   },
   {
    "duration": 89,
    "start_time": "2023-02-28T21:30:57.590Z"
   },
   {
    "duration": 893,
    "start_time": "2023-02-28T21:30:57.682Z"
   },
   {
    "duration": 194,
    "start_time": "2023-02-28T21:30:58.577Z"
   },
   {
    "duration": 290,
    "start_time": "2023-02-28T21:30:58.772Z"
   },
   {
    "duration": 3,
    "start_time": "2023-02-28T21:30:59.064Z"
   },
   {
    "duration": 123,
    "start_time": "2023-02-28T21:30:59.068Z"
   },
   {
    "duration": 0,
    "start_time": "2023-02-28T21:30:59.193Z"
   },
   {
    "duration": 0,
    "start_time": "2023-02-28T21:30:59.194Z"
   },
   {
    "duration": 1551,
    "start_time": "2023-02-28T21:42:24.069Z"
   },
   {
    "duration": 3076,
    "start_time": "2023-02-28T21:42:25.622Z"
   },
   {
    "duration": 23,
    "start_time": "2023-02-28T21:42:28.699Z"
   },
   {
    "duration": 154,
    "start_time": "2023-02-28T21:42:28.725Z"
   },
   {
    "duration": 145,
    "start_time": "2023-02-28T21:42:28.884Z"
   },
   {
    "duration": 537,
    "start_time": "2023-02-28T21:42:29.030Z"
   },
   {
    "duration": 686,
    "start_time": "2023-02-28T21:42:29.570Z"
   },
   {
    "duration": 40,
    "start_time": "2023-02-28T21:42:30.258Z"
   },
   {
    "duration": 125,
    "start_time": "2023-02-28T21:42:30.300Z"
   },
   {
    "duration": 575,
    "start_time": "2023-02-28T21:42:30.428Z"
   },
   {
    "duration": 31,
    "start_time": "2023-02-28T21:42:31.005Z"
   },
   {
    "duration": 30,
    "start_time": "2023-02-28T21:42:31.038Z"
   },
   {
    "duration": 104,
    "start_time": "2023-02-28T21:42:31.070Z"
   },
   {
    "duration": 27,
    "start_time": "2023-02-28T21:42:31.176Z"
   },
   {
    "duration": 507,
    "start_time": "2023-02-28T21:42:31.205Z"
   },
   {
    "duration": 29,
    "start_time": "2023-02-28T21:42:31.714Z"
   },
   {
    "duration": 44,
    "start_time": "2023-02-28T21:42:31.745Z"
   },
   {
    "duration": 90,
    "start_time": "2023-02-28T21:42:31.791Z"
   },
   {
    "duration": 95,
    "start_time": "2023-02-28T21:42:31.884Z"
   },
   {
    "duration": 93,
    "start_time": "2023-02-28T21:42:31.981Z"
   },
   {
    "duration": 826,
    "start_time": "2023-02-28T21:42:32.075Z"
   },
   {
    "duration": 202,
    "start_time": "2023-02-28T21:42:32.903Z"
   },
   {
    "duration": 303,
    "start_time": "2023-02-28T21:42:33.107Z"
   },
   {
    "duration": 3,
    "start_time": "2023-02-28T21:42:33.412Z"
   },
   {
    "duration": 133,
    "start_time": "2023-02-28T21:42:33.421Z"
   },
   {
    "duration": 0,
    "start_time": "2023-02-28T21:42:33.556Z"
   },
   {
    "duration": 0,
    "start_time": "2023-02-28T21:42:33.558Z"
   },
   {
    "duration": 4,
    "start_time": "2023-02-28T21:42:45.529Z"
   },
   {
    "duration": 4,
    "start_time": "2023-02-28T21:42:47.130Z"
   },
   {
    "duration": 2474,
    "start_time": "2023-02-28T21:42:50.602Z"
   },
   {
    "duration": 1303,
    "start_time": "2023-02-28T21:44:46.745Z"
   },
   {
    "duration": 3104,
    "start_time": "2023-02-28T21:44:48.050Z"
   },
   {
    "duration": 19,
    "start_time": "2023-02-28T21:44:51.156Z"
   },
   {
    "duration": 121,
    "start_time": "2023-02-28T21:44:51.177Z"
   },
   {
    "duration": 130,
    "start_time": "2023-02-28T21:44:51.300Z"
   },
   {
    "duration": 489,
    "start_time": "2023-02-28T21:44:51.432Z"
   },
   {
    "duration": 597,
    "start_time": "2023-02-28T21:44:51.923Z"
   },
   {
    "duration": 37,
    "start_time": "2023-02-28T21:44:52.522Z"
   },
   {
    "duration": 90,
    "start_time": "2023-02-28T21:44:52.561Z"
   },
   {
    "duration": 513,
    "start_time": "2023-02-28T21:44:52.652Z"
   },
   {
    "duration": 29,
    "start_time": "2023-02-28T21:44:53.168Z"
   },
   {
    "duration": 55,
    "start_time": "2023-02-28T21:44:53.200Z"
   },
   {
    "duration": 80,
    "start_time": "2023-02-28T21:44:53.257Z"
   },
   {
    "duration": 26,
    "start_time": "2023-02-28T21:44:53.340Z"
   },
   {
    "duration": 441,
    "start_time": "2023-02-28T21:44:53.368Z"
   },
   {
    "duration": 32,
    "start_time": "2023-02-28T21:44:53.812Z"
   },
   {
    "duration": 30,
    "start_time": "2023-02-28T21:44:53.846Z"
   },
   {
    "duration": 83,
    "start_time": "2023-02-28T21:44:53.878Z"
   },
   {
    "duration": 83,
    "start_time": "2023-02-28T21:44:53.963Z"
   },
   {
    "duration": 101,
    "start_time": "2023-02-28T21:44:54.048Z"
   },
   {
    "duration": 789,
    "start_time": "2023-02-28T21:44:54.153Z"
   },
   {
    "duration": 200,
    "start_time": "2023-02-28T21:44:54.944Z"
   },
   {
    "duration": 299,
    "start_time": "2023-02-28T21:44:55.146Z"
   },
   {
    "duration": 7,
    "start_time": "2023-02-28T21:44:55.447Z"
   },
   {
    "duration": 8,
    "start_time": "2023-02-28T21:44:55.456Z"
   },
   {
    "duration": 1427,
    "start_time": "2023-02-28T21:49:32.770Z"
   },
   {
    "duration": 3184,
    "start_time": "2023-02-28T21:49:34.200Z"
   },
   {
    "duration": 24,
    "start_time": "2023-02-28T21:49:37.386Z"
   },
   {
    "duration": 140,
    "start_time": "2023-02-28T21:49:37.412Z"
   },
   {
    "duration": 141,
    "start_time": "2023-02-28T21:49:37.555Z"
   },
   {
    "duration": 545,
    "start_time": "2023-02-28T21:49:37.698Z"
   },
   {
    "duration": 621,
    "start_time": "2023-02-28T21:49:38.245Z"
   },
   {
    "duration": 36,
    "start_time": "2023-02-28T21:49:38.868Z"
   },
   {
    "duration": 91,
    "start_time": "2023-02-28T21:49:38.906Z"
   },
   {
    "duration": 593,
    "start_time": "2023-02-28T21:49:38.998Z"
   },
   {
    "duration": 37,
    "start_time": "2023-02-28T21:49:39.593Z"
   },
   {
    "duration": 31,
    "start_time": "2023-02-28T21:49:39.632Z"
   },
   {
    "duration": 94,
    "start_time": "2023-02-28T21:49:39.665Z"
   },
   {
    "duration": 27,
    "start_time": "2023-02-28T21:49:39.762Z"
   },
   {
    "duration": 506,
    "start_time": "2023-02-28T21:49:39.791Z"
   },
   {
    "duration": 32,
    "start_time": "2023-02-28T21:49:40.300Z"
   },
   {
    "duration": 26,
    "start_time": "2023-02-28T21:49:40.333Z"
   },
   {
    "duration": 97,
    "start_time": "2023-02-28T21:49:40.361Z"
   },
   {
    "duration": 87,
    "start_time": "2023-02-28T21:49:40.460Z"
   },
   {
    "duration": 86,
    "start_time": "2023-02-28T21:49:40.549Z"
   },
   {
    "duration": 957,
    "start_time": "2023-02-28T21:49:40.637Z"
   },
   {
    "duration": 196,
    "start_time": "2023-02-28T21:49:41.596Z"
   },
   {
    "duration": 310,
    "start_time": "2023-02-28T21:49:41.795Z"
   },
   {
    "duration": 4,
    "start_time": "2023-02-28T21:49:42.106Z"
   },
   {
    "duration": 3679,
    "start_time": "2023-02-28T21:49:42.120Z"
   },
   {
    "duration": 3,
    "start_time": "2023-02-28T21:49:45.800Z"
   },
   {
    "duration": 10,
    "start_time": "2023-02-28T21:49:45.805Z"
   },
   {
    "duration": 151,
    "start_time": "2023-02-28T21:50:20.407Z"
   },
   {
    "duration": 14,
    "start_time": "2023-02-28T21:50:37.373Z"
   },
   {
    "duration": 6,
    "start_time": "2023-02-28T21:50:44.096Z"
   },
   {
    "duration": 12,
    "start_time": "2023-02-28T21:51:51.571Z"
   },
   {
    "duration": 26289,
    "start_time": "2023-02-28T21:51:57.433Z"
   },
   {
    "duration": 27943,
    "start_time": "2023-02-28T21:53:10.088Z"
   },
   {
    "duration": 25,
    "start_time": "2023-02-28T21:56:02.796Z"
   },
   {
    "duration": 1542,
    "start_time": "2023-02-28T21:58:17.556Z"
   },
   {
    "duration": 30,
    "start_time": "2023-02-28T22:00:16.532Z"
   },
   {
    "duration": 73,
    "start_time": "2023-02-28T22:00:17.844Z"
   },
   {
    "duration": 3727,
    "start_time": "2023-02-28T22:00:57.158Z"
   },
   {
    "duration": 3706,
    "start_time": "2023-02-28T22:01:38.796Z"
   },
   {
    "duration": 541758,
    "start_time": "2023-02-28T22:03:33.246Z"
   },
   {
    "duration": 343253,
    "start_time": "2023-02-28T22:13:51.874Z"
   },
   {
    "duration": 1293,
    "start_time": "2023-02-28T22:23:14.847Z"
   },
   {
    "duration": 56,
    "start_time": "2023-02-28T22:23:53.680Z"
   },
   {
    "duration": 3,
    "start_time": "2023-02-28T22:27:06.013Z"
   },
   {
    "duration": 760,
    "start_time": "2023-02-28T22:27:06.019Z"
   },
   {
    "duration": 11,
    "start_time": "2023-02-28T22:27:06.781Z"
   },
   {
    "duration": 127,
    "start_time": "2023-02-28T22:27:06.794Z"
   },
   {
    "duration": 113,
    "start_time": "2023-02-28T22:27:06.923Z"
   },
   {
    "duration": 408,
    "start_time": "2023-02-28T22:27:07.038Z"
   },
   {
    "duration": 481,
    "start_time": "2023-02-28T22:27:07.447Z"
   },
   {
    "duration": 28,
    "start_time": "2023-02-28T22:27:07.930Z"
   },
   {
    "duration": 72,
    "start_time": "2023-02-28T22:27:07.960Z"
   },
   {
    "duration": 384,
    "start_time": "2023-02-28T22:27:08.034Z"
   },
   {
    "duration": 17,
    "start_time": "2023-02-28T22:27:08.421Z"
   },
   {
    "duration": 22,
    "start_time": "2023-02-28T22:27:08.440Z"
   },
   {
    "duration": 80,
    "start_time": "2023-02-28T22:27:08.463Z"
   },
   {
    "duration": 22,
    "start_time": "2023-02-28T22:27:08.546Z"
   },
   {
    "duration": 346,
    "start_time": "2023-02-28T22:27:08.570Z"
   },
   {
    "duration": 22,
    "start_time": "2023-02-28T22:27:08.920Z"
   },
   {
    "duration": 34,
    "start_time": "2023-02-28T22:27:08.943Z"
   },
   {
    "duration": 80,
    "start_time": "2023-02-28T22:27:08.979Z"
   },
   {
    "duration": 72,
    "start_time": "2023-02-28T22:27:09.060Z"
   },
   {
    "duration": 69,
    "start_time": "2023-02-28T22:27:09.133Z"
   },
   {
    "duration": 673,
    "start_time": "2023-02-28T22:27:09.221Z"
   },
   {
    "duration": 186,
    "start_time": "2023-02-28T22:27:09.896Z"
   },
   {
    "duration": 285,
    "start_time": "2023-02-28T22:27:10.084Z"
   },
   {
    "duration": 2,
    "start_time": "2023-02-28T22:27:10.371Z"
   },
   {
    "duration": 3470,
    "start_time": "2023-02-28T22:27:10.375Z"
   },
   {
    "duration": 5,
    "start_time": "2023-02-28T22:27:13.847Z"
   },
   {
    "duration": 19569,
    "start_time": "2023-02-28T22:27:13.853Z"
   },
   {
    "duration": 1541,
    "start_time": "2023-02-28T22:27:33.425Z"
   },
   {
    "duration": 20,
    "start_time": "2023-02-28T22:27:34.968Z"
   },
   {
    "duration": 56,
    "start_time": "2023-02-28T22:27:34.990Z"
   },
   {
    "duration": 1164,
    "start_time": "2023-02-28T22:27:35.047Z"
   },
   {
    "duration": 196876,
    "start_time": "2023-02-28T22:27:36.212Z"
   },
   {
    "duration": 53,
    "start_time": "2023-02-28T22:30:53.090Z"
   },
   {
    "duration": 3,
    "start_time": "2023-02-28T22:30:53.145Z"
   },
   {
    "duration": 44,
    "start_time": "2023-02-28T22:30:53.150Z"
   },
   {
    "duration": 3,
    "start_time": "2023-02-28T22:31:53.029Z"
   },
   {
    "duration": 10,
    "start_time": "2023-02-28T22:32:35.120Z"
   },
   {
    "duration": 2306,
    "start_time": "2023-02-28T22:33:08.871Z"
   },
   {
    "duration": 3,
    "start_time": "2023-02-28T22:33:27.035Z"
   },
   {
    "duration": 3,
    "start_time": "2023-02-28T22:33:56.990Z"
   },
   {
    "duration": 10,
    "start_time": "2023-02-28T22:33:58.470Z"
   },
   {
    "duration": 4,
    "start_time": "2023-02-28T22:33:59.427Z"
   },
   {
    "duration": 49,
    "start_time": "2023-02-28T22:34:00.242Z"
   },
   {
    "duration": 3,
    "start_time": "2023-02-28T22:34:01.785Z"
   },
   {
    "duration": 14,
    "start_time": "2023-02-28T22:34:03.079Z"
   },
   {
    "duration": 10,
    "start_time": "2023-02-28T22:34:53.811Z"
   },
   {
    "duration": 6235,
    "start_time": "2023-02-28T22:35:04.812Z"
   },
   {
    "duration": 124480,
    "start_time": "2023-02-28T22:35:34.760Z"
   },
   {
    "duration": 14206,
    "start_time": "2023-02-28T22:38:11.639Z"
   },
   {
    "duration": 3,
    "start_time": "2023-02-28T22:38:27.498Z"
   },
   {
    "duration": 715462,
    "start_time": "2023-02-28T22:38:30.779Z"
   },
   {
    "duration": 19665,
    "start_time": "2023-02-28T22:55:53.558Z"
   },
   {
    "duration": 165,
    "start_time": "2023-02-28T22:56:28.757Z"
   },
   {
    "duration": 420,
    "start_time": "2023-02-28T22:57:54.063Z"
   },
   {
    "duration": 27,
    "start_time": "2023-02-28T22:58:06.477Z"
   },
   {
    "duration": 84061,
    "start_time": "2023-02-28T22:58:54.568Z"
   },
   {
    "duration": 4345,
    "start_time": "2023-02-28T23:00:56.162Z"
   },
   {
    "duration": 112037,
    "start_time": "2023-02-28T23:01:06.398Z"
   },
   {
    "duration": 10993,
    "start_time": "2023-02-28T23:02:58.437Z"
   },
   {
    "duration": 3461,
    "start_time": "2023-02-28T23:03:55.361Z"
   },
   {
    "duration": 3592,
    "start_time": "2023-02-28T23:04:13.437Z"
   },
   {
    "duration": 50468,
    "start_time": "2023-02-28T23:10:08.041Z"
   },
   {
    "duration": 90,
    "start_time": "2023-02-28T23:10:58.511Z"
   },
   {
    "duration": 1296,
    "start_time": "2023-02-28T23:12:00.703Z"
   },
   {
    "duration": 1347,
    "start_time": "2023-02-28T23:12:02.001Z"
   },
   {
    "duration": 73,
    "start_time": "2023-02-28T23:12:03.349Z"
   },
   {
    "duration": 225,
    "start_time": "2023-02-28T23:12:03.423Z"
   },
   {
    "duration": 216,
    "start_time": "2023-02-28T23:12:03.649Z"
   },
   {
    "duration": 573,
    "start_time": "2023-02-28T23:12:03.867Z"
   },
   {
    "duration": 595,
    "start_time": "2023-02-28T23:12:04.442Z"
   },
   {
    "duration": 43,
    "start_time": "2023-02-28T23:12:05.040Z"
   },
   {
    "duration": 82,
    "start_time": "2023-02-28T23:12:05.085Z"
   },
   {
    "duration": 504,
    "start_time": "2023-02-28T23:12:05.168Z"
   },
   {
    "duration": 18,
    "start_time": "2023-02-28T23:12:05.674Z"
   },
   {
    "duration": 40,
    "start_time": "2023-02-28T23:12:05.693Z"
   },
   {
    "duration": 65,
    "start_time": "2023-02-28T23:12:05.734Z"
   },
   {
    "duration": 36,
    "start_time": "2023-02-28T23:12:05.802Z"
   },
   {
    "duration": 421,
    "start_time": "2023-02-28T23:12:05.839Z"
   },
   {
    "duration": 24,
    "start_time": "2023-02-28T23:12:06.262Z"
   },
   {
    "duration": 39,
    "start_time": "2023-02-28T23:12:06.288Z"
   },
   {
    "duration": 64,
    "start_time": "2023-02-28T23:12:06.329Z"
   },
   {
    "duration": 86,
    "start_time": "2023-02-28T23:12:06.394Z"
   },
   {
    "duration": 76,
    "start_time": "2023-02-28T23:12:06.481Z"
   },
   {
    "duration": 696,
    "start_time": "2023-02-28T23:12:06.559Z"
   },
   {
    "duration": 188,
    "start_time": "2023-02-28T23:12:07.257Z"
   },
   {
    "duration": 288,
    "start_time": "2023-02-28T23:12:07.447Z"
   },
   {
    "duration": 3,
    "start_time": "2023-02-28T23:12:07.737Z"
   },
   {
    "duration": 3502,
    "start_time": "2023-02-28T23:12:07.742Z"
   },
   {
    "duration": 6,
    "start_time": "2023-02-28T23:12:11.246Z"
   },
   {
    "duration": 19972,
    "start_time": "2023-02-28T23:12:11.253Z"
   },
   {
    "duration": 1654,
    "start_time": "2023-02-28T23:12:31.227Z"
   },
   {
    "duration": 19,
    "start_time": "2023-02-28T23:12:32.883Z"
   },
   {
    "duration": 59,
    "start_time": "2023-02-28T23:12:32.904Z"
   },
   {
    "duration": 4796,
    "start_time": "2023-02-28T23:12:32.965Z"
   },
   {
    "duration": 181105,
    "start_time": "2023-02-28T23:12:37.763Z"
   },
   {
    "duration": 10,
    "start_time": "2023-02-28T23:15:38.870Z"
   },
   {
    "duration": 8,
    "start_time": "2023-02-28T23:15:38.882Z"
   },
   {
    "duration": 64,
    "start_time": "2023-02-28T23:15:38.891Z"
   },
   {
    "duration": 3,
    "start_time": "2023-02-28T23:15:38.957Z"
   },
   {
    "duration": 744068,
    "start_time": "2023-02-28T23:15:38.961Z"
   },
   {
    "duration": 16302,
    "start_time": "2023-02-28T23:28:03.031Z"
   },
   {
    "duration": 229,
    "start_time": "2023-02-28T23:28:19.335Z"
   },
   {
    "duration": 4568,
    "start_time": "2023-02-28T23:28:19.566Z"
   },
   {
    "duration": 88,
    "start_time": "2023-02-28T23:28:24.220Z"
   },
   {
    "duration": 5015,
    "start_time": "2023-02-28T23:28:24.310Z"
   },
   {
    "duration": 76,
    "start_time": "2023-02-28T23:28:29.327Z"
   },
   {
    "duration": 4626,
    "start_time": "2023-02-28T23:28:29.405Z"
   },
   {
    "duration": 80,
    "start_time": "2023-02-28T23:28:34.033Z"
   },
   {
    "duration": 14,
    "start_time": "2023-02-28T23:28:34.115Z"
   },
   {
    "duration": 20529,
    "start_time": "2023-02-28T23:30:16.393Z"
   },
   {
    "duration": 200,
    "start_time": "2023-02-28T23:30:36.924Z"
   },
   {
    "duration": 595,
    "start_time": "2023-02-28T23:30:37.127Z"
   },
   {
    "duration": 26,
    "start_time": "2023-02-28T23:30:37.724Z"
   },
   {
    "duration": 89682,
    "start_time": "2023-02-28T23:30:37.752Z"
   },
   {
    "duration": 4628,
    "start_time": "2023-02-28T23:32:07.436Z"
   },
   {
    "duration": 36274,
    "start_time": "2023-02-28T23:32:12.066Z"
   },
   {
    "duration": 12310,
    "start_time": "2023-02-28T23:32:48.341Z"
   },
   {
    "duration": 4201,
    "start_time": "2023-02-28T23:33:00.653Z"
   },
   {
    "duration": 1458,
    "start_time": "2023-03-02T03:32:34.454Z"
   },
   {
    "duration": 829,
    "start_time": "2023-03-02T03:32:35.914Z"
   },
   {
    "duration": 21,
    "start_time": "2023-03-02T03:32:37.493Z"
   },
   {
    "duration": 137,
    "start_time": "2023-03-02T03:32:39.202Z"
   },
   {
    "duration": 128,
    "start_time": "2023-03-02T03:32:39.597Z"
   },
   {
    "duration": 455,
    "start_time": "2023-03-02T03:33:14.865Z"
   },
   {
    "duration": 591,
    "start_time": "2023-03-02T03:33:15.888Z"
   },
   {
    "duration": 37,
    "start_time": "2023-03-02T03:33:40.619Z"
   },
   {
    "duration": 83,
    "start_time": "2023-03-02T03:34:02.413Z"
   },
   {
    "duration": 556,
    "start_time": "2023-03-02T03:34:07.857Z"
   },
   {
    "duration": 18,
    "start_time": "2023-03-02T03:34:23.567Z"
   },
   {
    "duration": 26,
    "start_time": "2023-03-02T03:34:26.067Z"
   },
   {
    "duration": 75,
    "start_time": "2023-03-02T03:34:46.087Z"
   },
   {
    "duration": 24,
    "start_time": "2023-03-02T03:34:47.872Z"
   },
   {
    "duration": 478,
    "start_time": "2023-03-02T03:34:53.042Z"
   },
   {
    "duration": 23,
    "start_time": "2023-03-02T03:35:00.376Z"
   },
   {
    "duration": 25,
    "start_time": "2023-03-02T03:35:18.414Z"
   },
   {
    "duration": 71,
    "start_time": "2023-03-02T03:35:31.977Z"
   },
   {
    "duration": 80,
    "start_time": "2023-03-02T03:35:51.794Z"
   },
   {
    "duration": 77,
    "start_time": "2023-03-02T03:35:54.777Z"
   },
   {
    "duration": 643,
    "start_time": "2023-03-02T03:36:16.403Z"
   },
   {
    "duration": 194,
    "start_time": "2023-03-02T03:36:47.643Z"
   },
   {
    "duration": 291,
    "start_time": "2023-03-02T03:37:09.547Z"
   },
   {
    "duration": 3,
    "start_time": "2023-03-02T03:39:13.508Z"
   },
   {
    "duration": 9,
    "start_time": "2023-03-02T03:39:16.161Z"
   },
   {
    "duration": 3695,
    "start_time": "2023-03-02T03:39:44.314Z"
   },
   {
    "duration": 6,
    "start_time": "2023-03-02T03:39:48.011Z"
   },
   {
    "duration": 1482,
    "start_time": "2023-03-02T03:41:05.780Z"
   },
   {
    "duration": 19,
    "start_time": "2023-03-02T03:41:14.714Z"
   },
   {
    "duration": 45,
    "start_time": "2023-03-02T03:41:15.805Z"
   },
   {
    "duration": 1574,
    "start_time": "2023-03-02T15:13:17.607Z"
   },
   {
    "duration": 1325,
    "start_time": "2023-03-02T15:13:19.184Z"
   },
   {
    "duration": 20,
    "start_time": "2023-03-02T15:13:20.510Z"
   },
   {
    "duration": 183,
    "start_time": "2023-03-02T15:13:20.532Z"
   },
   {
    "duration": 123,
    "start_time": "2023-03-02T15:13:20.717Z"
   },
   {
    "duration": 534,
    "start_time": "2023-03-02T15:13:20.842Z"
   },
   {
    "duration": 632,
    "start_time": "2023-03-02T15:13:21.379Z"
   },
   {
    "duration": 42,
    "start_time": "2023-03-02T15:13:22.012Z"
   },
   {
    "duration": 85,
    "start_time": "2023-03-02T15:13:22.057Z"
   },
   {
    "duration": 825,
    "start_time": "2023-03-02T15:13:22.147Z"
   },
   {
    "duration": 20,
    "start_time": "2023-03-02T15:13:22.974Z"
   },
   {
    "duration": 150,
    "start_time": "2023-03-02T15:13:22.996Z"
   },
   {
    "duration": 83,
    "start_time": "2023-03-02T15:13:23.150Z"
   },
   {
    "duration": 36,
    "start_time": "2023-03-02T15:13:23.237Z"
   },
   {
    "duration": 421,
    "start_time": "2023-03-02T15:13:23.274Z"
   },
   {
    "duration": 24,
    "start_time": "2023-03-02T15:13:23.697Z"
   },
   {
    "duration": 52,
    "start_time": "2023-03-02T15:13:23.724Z"
   },
   {
    "duration": 60,
    "start_time": "2023-03-02T15:13:23.778Z"
   },
   {
    "duration": 83,
    "start_time": "2023-03-02T15:13:23.843Z"
   },
   {
    "duration": 86,
    "start_time": "2023-03-02T15:13:23.928Z"
   },
   {
    "duration": 792,
    "start_time": "2023-03-02T15:13:24.015Z"
   },
   {
    "duration": 78,
    "start_time": "2023-03-02T15:13:24.809Z"
   },
   {
    "duration": 77,
    "start_time": "2023-03-02T15:13:24.889Z"
   },
   {
    "duration": 145,
    "start_time": "2023-03-02T15:13:24.971Z"
   },
   {
    "duration": 44,
    "start_time": "2023-03-02T15:13:47.134Z"
   },
   {
    "duration": 13,
    "start_time": "2023-03-02T15:13:49.164Z"
   },
   {
    "duration": 13,
    "start_time": "2023-03-02T15:14:06.634Z"
   },
   {
    "duration": 3,
    "start_time": "2023-03-02T15:18:43.226Z"
   },
   {
    "duration": 15,
    "start_time": "2023-03-02T15:18:43.902Z"
   },
   {
    "duration": 33,
    "start_time": "2023-03-02T15:18:44.337Z"
   },
   {
    "duration": 30,
    "start_time": "2023-03-02T15:19:29.382Z"
   },
   {
    "duration": 7,
    "start_time": "2023-03-02T15:20:02.667Z"
   },
   {
    "duration": 987,
    "start_time": "2023-03-02T15:20:02.676Z"
   },
   {
    "duration": 19,
    "start_time": "2023-03-02T15:20:03.665Z"
   },
   {
    "duration": 168,
    "start_time": "2023-03-02T15:20:03.686Z"
   },
   {
    "duration": 147,
    "start_time": "2023-03-02T15:20:03.857Z"
   },
   {
    "duration": 693,
    "start_time": "2023-03-02T15:20:04.006Z"
   },
   {
    "duration": 593,
    "start_time": "2023-03-02T15:20:04.701Z"
   },
   {
    "duration": 31,
    "start_time": "2023-03-02T15:20:05.297Z"
   },
   {
    "duration": 81,
    "start_time": "2023-03-02T15:20:05.335Z"
   },
   {
    "duration": 486,
    "start_time": "2023-03-02T15:20:05.418Z"
   },
   {
    "duration": 19,
    "start_time": "2023-03-02T15:20:05.906Z"
   },
   {
    "duration": 65,
    "start_time": "2023-03-02T15:20:05.937Z"
   },
   {
    "duration": 90,
    "start_time": "2023-03-02T15:20:06.004Z"
   },
   {
    "duration": 23,
    "start_time": "2023-03-02T15:20:06.097Z"
   },
   {
    "duration": 394,
    "start_time": "2023-03-02T15:20:06.122Z"
   },
   {
    "duration": 40,
    "start_time": "2023-03-02T15:20:06.518Z"
   },
   {
    "duration": 38,
    "start_time": "2023-03-02T15:20:06.564Z"
   },
   {
    "duration": 77,
    "start_time": "2023-03-02T15:20:06.604Z"
   },
   {
    "duration": 142,
    "start_time": "2023-03-02T15:20:06.684Z"
   },
   {
    "duration": 85,
    "start_time": "2023-03-02T15:20:06.828Z"
   },
   {
    "duration": 826,
    "start_time": "2023-03-02T15:20:06.916Z"
   },
   {
    "duration": 77,
    "start_time": "2023-03-02T15:20:07.754Z"
   },
   {
    "duration": 68,
    "start_time": "2023-03-02T15:20:07.833Z"
   },
   {
    "duration": 25,
    "start_time": "2023-03-02T15:20:07.902Z"
   },
   {
    "duration": 16,
    "start_time": "2023-03-02T15:20:07.929Z"
   },
   {
    "duration": 56,
    "start_time": "2023-03-02T15:20:07.950Z"
   },
   {
    "duration": 53,
    "start_time": "2023-03-02T15:20:08.008Z"
   },
   {
    "duration": 39,
    "start_time": "2023-03-02T15:20:08.063Z"
   },
   {
    "duration": 41,
    "start_time": "2023-03-02T15:20:08.103Z"
   },
   {
    "duration": 14,
    "start_time": "2023-03-02T15:21:26.220Z"
   },
   {
    "duration": 19,
    "start_time": "2023-03-02T15:21:52.387Z"
   },
   {
    "duration": 35,
    "start_time": "2023-03-02T15:22:03.632Z"
   },
   {
    "duration": 1618,
    "start_time": "2023-03-02T15:22:17.011Z"
   },
   {
    "duration": 1112,
    "start_time": "2023-03-02T15:22:18.632Z"
   },
   {
    "duration": 30,
    "start_time": "2023-03-02T15:22:19.746Z"
   },
   {
    "duration": 285,
    "start_time": "2023-03-02T15:22:19.778Z"
   },
   {
    "duration": 201,
    "start_time": "2023-03-02T15:22:20.066Z"
   },
   {
    "duration": 739,
    "start_time": "2023-03-02T15:22:20.269Z"
   },
   {
    "duration": 960,
    "start_time": "2023-03-02T15:22:21.010Z"
   },
   {
    "duration": 61,
    "start_time": "2023-03-02T15:22:21.972Z"
   },
   {
    "duration": 225,
    "start_time": "2023-03-02T15:22:22.036Z"
   },
   {
    "duration": 808,
    "start_time": "2023-03-02T15:22:22.267Z"
   },
   {
    "duration": 34,
    "start_time": "2023-03-02T15:22:23.081Z"
   },
   {
    "duration": 149,
    "start_time": "2023-03-02T15:22:23.121Z"
   },
   {
    "duration": 142,
    "start_time": "2023-03-02T15:22:23.272Z"
   },
   {
    "duration": 38,
    "start_time": "2023-03-02T15:22:23.419Z"
   },
   {
    "duration": 728,
    "start_time": "2023-03-02T15:22:23.462Z"
   },
   {
    "duration": 35,
    "start_time": "2023-03-02T15:22:24.193Z"
   },
   {
    "duration": 120,
    "start_time": "2023-03-02T15:22:24.230Z"
   },
   {
    "duration": 198,
    "start_time": "2023-03-02T15:22:24.352Z"
   },
   {
    "duration": 156,
    "start_time": "2023-03-02T15:22:24.553Z"
   },
   {
    "duration": 108,
    "start_time": "2023-03-02T15:22:24.711Z"
   },
   {
    "duration": 969,
    "start_time": "2023-03-02T15:22:24.821Z"
   },
   {
    "duration": 86,
    "start_time": "2023-03-02T15:22:25.794Z"
   },
   {
    "duration": 98,
    "start_time": "2023-03-02T15:22:25.890Z"
   },
   {
    "duration": 34,
    "start_time": "2023-03-02T15:22:25.989Z"
   },
   {
    "duration": 45,
    "start_time": "2023-03-02T15:22:26.025Z"
   },
   {
    "duration": 66,
    "start_time": "2023-03-02T15:22:26.072Z"
   },
   {
    "duration": 77,
    "start_time": "2023-03-02T15:22:26.149Z"
   },
   {
    "duration": 90,
    "start_time": "2023-03-02T15:22:26.228Z"
   },
   {
    "duration": 194,
    "start_time": "2023-03-02T15:22:32.104Z"
   },
   {
    "duration": 18,
    "start_time": "2023-03-02T15:22:47.981Z"
   },
   {
    "duration": 18,
    "start_time": "2023-03-02T15:22:49.793Z"
   },
   {
    "duration": 484,
    "start_time": "2023-03-02T15:24:07.712Z"
   },
   {
    "duration": 83,
    "start_time": "2023-03-02T15:24:09.111Z"
   },
   {
    "duration": 42,
    "start_time": "2023-03-02T15:24:10.192Z"
   },
   {
    "duration": 4,
    "start_time": "2023-03-02T15:24:11.126Z"
   },
   {
    "duration": 3,
    "start_time": "2023-03-02T15:24:27.075Z"
   },
   {
    "duration": 21,
    "start_time": "2023-03-02T15:24:28.269Z"
   },
   {
    "duration": 1673,
    "start_time": "2023-03-02T15:24:42.002Z"
   },
   {
    "duration": 1040,
    "start_time": "2023-03-02T15:24:43.677Z"
   },
   {
    "duration": 36,
    "start_time": "2023-03-02T15:24:44.719Z"
   },
   {
    "duration": 190,
    "start_time": "2023-03-02T15:24:44.757Z"
   },
   {
    "duration": 154,
    "start_time": "2023-03-02T15:24:44.950Z"
   },
   {
    "duration": 578,
    "start_time": "2023-03-02T15:24:45.105Z"
   },
   {
    "duration": 699,
    "start_time": "2023-03-02T15:24:45.687Z"
   },
   {
    "duration": 37,
    "start_time": "2023-03-02T15:24:46.388Z"
   },
   {
    "duration": 95,
    "start_time": "2023-03-02T15:24:46.427Z"
   },
   {
    "duration": 710,
    "start_time": "2023-03-02T15:24:46.523Z"
   },
   {
    "duration": 55,
    "start_time": "2023-03-02T15:24:47.235Z"
   },
   {
    "duration": 68,
    "start_time": "2023-03-02T15:24:47.295Z"
   },
   {
    "duration": 91,
    "start_time": "2023-03-02T15:24:47.365Z"
   },
   {
    "duration": 36,
    "start_time": "2023-03-02T15:24:47.459Z"
   },
   {
    "duration": 555,
    "start_time": "2023-03-02T15:24:47.499Z"
   },
   {
    "duration": 31,
    "start_time": "2023-03-02T15:24:48.059Z"
   },
   {
    "duration": 27,
    "start_time": "2023-03-02T15:24:48.094Z"
   },
   {
    "duration": 81,
    "start_time": "2023-03-02T15:24:48.123Z"
   },
   {
    "duration": 102,
    "start_time": "2023-03-02T15:24:48.206Z"
   },
   {
    "duration": 95,
    "start_time": "2023-03-02T15:24:48.310Z"
   },
   {
    "duration": 1033,
    "start_time": "2023-03-02T15:24:48.407Z"
   },
   {
    "duration": 446,
    "start_time": "2023-03-02T15:24:49.441Z"
   },
   {
    "duration": 132,
    "start_time": "2023-03-02T15:24:49.889Z"
   },
   {
    "duration": 0,
    "start_time": "2023-03-02T15:24:50.023Z"
   },
   {
    "duration": 0,
    "start_time": "2023-03-02T15:24:50.024Z"
   },
   {
    "duration": 0,
    "start_time": "2023-03-02T15:24:50.026Z"
   },
   {
    "duration": 0,
    "start_time": "2023-03-02T15:24:50.040Z"
   },
   {
    "duration": 0,
    "start_time": "2023-03-02T15:24:50.041Z"
   },
   {
    "duration": 0,
    "start_time": "2023-03-02T15:24:50.042Z"
   },
   {
    "duration": 293,
    "start_time": "2023-03-02T15:25:20.111Z"
   },
   {
    "duration": 127,
    "start_time": "2023-03-02T15:25:21.260Z"
   },
   {
    "duration": 10,
    "start_time": "2023-03-02T15:25:22.191Z"
   },
   {
    "duration": 3,
    "start_time": "2023-03-02T15:25:27.319Z"
   },
   {
    "duration": 3500,
    "start_time": "2023-03-02T15:25:28.114Z"
   },
   {
    "duration": 11,
    "start_time": "2023-03-02T15:25:33.331Z"
   },
   {
    "duration": 16845,
    "start_time": "2023-03-02T15:26:22.207Z"
   },
   {
    "duration": 1698,
    "start_time": "2023-03-02T15:27:00.983Z"
   },
   {
    "duration": 80,
    "start_time": "2023-03-02T15:29:32.210Z"
   },
   {
    "duration": 41,
    "start_time": "2023-03-02T15:29:33.103Z"
   },
   {
    "duration": 19,
    "start_time": "2023-03-02T15:29:33.969Z"
   },
   {
    "duration": 9,
    "start_time": "2023-03-02T15:29:34.764Z"
   },
   {
    "duration": 4454,
    "start_time": "2023-03-02T15:29:46.031Z"
   },
   {
    "duration": 1388,
    "start_time": "2023-03-02T15:30:37.878Z"
   },
   {
    "duration": 4208,
    "start_time": "2023-03-02T15:30:54.168Z"
   },
   {
    "duration": 231354,
    "start_time": "2023-03-02T15:34:04.397Z"
   },
   {
    "duration": 30,
    "start_time": "2023-03-02T15:44:44.261Z"
   },
   {
    "duration": 4,
    "start_time": "2023-03-02T15:44:45.009Z"
   },
   {
    "duration": 1119,
    "start_time": "2023-03-02T15:44:46.226Z"
   },
   {
    "duration": 5,
    "start_time": "2023-03-02T15:44:47.411Z"
   },
   {
    "duration": 8,
    "start_time": "2023-03-02T15:44:50.180Z"
   },
   {
    "duration": 23,
    "start_time": "2023-03-02T15:45:40.624Z"
   },
   {
    "duration": 182,
    "start_time": "2023-03-02T15:54:15.675Z"
   },
   {
    "duration": 18,
    "start_time": "2023-03-02T15:54:33.927Z"
   },
   {
    "duration": 22,
    "start_time": "2023-03-02T15:54:43.327Z"
   },
   {
    "duration": 2085,
    "start_time": "2023-03-02T15:55:24.919Z"
   },
   {
    "duration": 959,
    "start_time": "2023-03-02T15:55:27.007Z"
   },
   {
    "duration": 24,
    "start_time": "2023-03-02T15:55:27.968Z"
   },
   {
    "duration": 151,
    "start_time": "2023-03-02T15:55:27.994Z"
   },
   {
    "duration": 140,
    "start_time": "2023-03-02T15:55:28.148Z"
   },
   {
    "duration": 563,
    "start_time": "2023-03-02T15:55:28.289Z"
   },
   {
    "duration": 696,
    "start_time": "2023-03-02T15:55:28.859Z"
   },
   {
    "duration": 40,
    "start_time": "2023-03-02T15:55:29.563Z"
   },
   {
    "duration": 89,
    "start_time": "2023-03-02T15:55:29.605Z"
   },
   {
    "duration": 599,
    "start_time": "2023-03-02T15:55:29.696Z"
   },
   {
    "duration": 20,
    "start_time": "2023-03-02T15:55:30.297Z"
   },
   {
    "duration": 50,
    "start_time": "2023-03-02T15:55:30.318Z"
   },
   {
    "duration": 110,
    "start_time": "2023-03-02T15:55:30.370Z"
   },
   {
    "duration": 23,
    "start_time": "2023-03-02T15:55:30.483Z"
   },
   {
    "duration": 517,
    "start_time": "2023-03-02T15:55:30.508Z"
   },
   {
    "duration": 39,
    "start_time": "2023-03-02T15:55:31.026Z"
   },
   {
    "duration": 61,
    "start_time": "2023-03-02T15:55:31.067Z"
   },
   {
    "duration": 77,
    "start_time": "2023-03-02T15:55:31.130Z"
   },
   {
    "duration": 95,
    "start_time": "2023-03-02T15:55:31.209Z"
   },
   {
    "duration": 114,
    "start_time": "2023-03-02T15:55:31.306Z"
   },
   {
    "duration": 976,
    "start_time": "2023-03-02T15:55:31.423Z"
   },
   {
    "duration": 422,
    "start_time": "2023-03-02T15:55:32.401Z"
   },
   {
    "duration": 263,
    "start_time": "2023-03-02T15:55:32.825Z"
   },
   {
    "duration": 129,
    "start_time": "2023-03-02T15:55:33.090Z"
   },
   {
    "duration": 4,
    "start_time": "2023-03-02T15:55:33.221Z"
   },
   {
    "duration": 55,
    "start_time": "2023-03-02T15:55:33.227Z"
   },
   {
    "duration": 22,
    "start_time": "2023-03-02T15:55:33.284Z"
   },
   {
    "duration": 40,
    "start_time": "2023-03-02T15:55:33.308Z"
   },
   {
    "duration": 3861,
    "start_time": "2023-03-02T15:55:33.353Z"
   },
   {
    "duration": 5,
    "start_time": "2023-03-02T15:55:37.216Z"
   },
   {
    "duration": 32353,
    "start_time": "2023-03-02T15:55:37.223Z"
   },
   {
    "duration": 2026,
    "start_time": "2023-03-02T15:56:09.657Z"
   },
   {
    "duration": 67,
    "start_time": "2023-03-02T15:56:11.685Z"
   },
   {
    "duration": 46,
    "start_time": "2023-03-02T15:56:11.754Z"
   },
   {
    "duration": 15,
    "start_time": "2023-03-02T15:56:11.802Z"
   },
   {
    "duration": 35,
    "start_time": "2023-03-02T15:56:11.819Z"
   },
   {
    "duration": 34,
    "start_time": "2023-03-02T15:56:11.859Z"
   },
   {
    "duration": 41,
    "start_time": "2023-03-02T15:56:11.895Z"
   },
   {
    "duration": 3994,
    "start_time": "2023-03-02T15:56:11.938Z"
   },
   {
    "duration": 224441,
    "start_time": "2023-03-02T15:56:15.939Z"
   },
   {
    "duration": 15,
    "start_time": "2023-03-02T16:00:00.383Z"
   },
   {
    "duration": 23,
    "start_time": "2023-03-02T16:00:00.400Z"
   },
   {
    "duration": 18,
    "start_time": "2023-03-02T16:46:36.542Z"
   },
   {
    "duration": 18,
    "start_time": "2023-03-02T16:47:35.071Z"
   },
   {
    "duration": 4,
    "start_time": "2023-03-02T16:47:43.164Z"
   },
   {
    "duration": 206,
    "start_time": "2023-03-02T16:47:44.380Z"
   },
   {
    "duration": 49,
    "start_time": "2023-03-02T16:48:46.944Z"
   },
   {
    "duration": 117,
    "start_time": "2023-03-02T16:55:33.320Z"
   },
   {
    "duration": 60,
    "start_time": "2023-03-02T16:56:10.701Z"
   },
   {
    "duration": 60,
    "start_time": "2023-03-02T16:58:49.468Z"
   },
   {
    "duration": 103,
    "start_time": "2023-03-02T16:59:00.385Z"
   },
   {
    "duration": 107,
    "start_time": "2023-03-02T16:59:38.375Z"
   },
   {
    "duration": 57,
    "start_time": "2023-03-02T17:05:49.945Z"
   },
   {
    "duration": 56,
    "start_time": "2023-03-02T17:06:40.472Z"
   },
   {
    "duration": 99,
    "start_time": "2023-03-02T17:07:07.862Z"
   },
   {
    "duration": 3,
    "start_time": "2023-03-02T17:07:35.469Z"
   },
   {
    "duration": 215240,
    "start_time": "2023-03-02T17:07:36.412Z"
   },
   {
    "duration": 93,
    "start_time": "2023-03-02T17:11:31.290Z"
   },
   {
    "duration": 14,
    "start_time": "2023-03-02T17:12:34.193Z"
   },
   {
    "duration": 4,
    "start_time": "2023-03-02T17:14:47.885Z"
   },
   {
    "duration": 738,
    "start_time": "2023-03-02T17:14:47.890Z"
   },
   {
    "duration": 16,
    "start_time": "2023-03-02T17:14:48.630Z"
   },
   {
    "duration": 151,
    "start_time": "2023-03-02T17:14:48.648Z"
   },
   {
    "duration": 138,
    "start_time": "2023-03-02T17:14:48.801Z"
   },
   {
    "duration": 447,
    "start_time": "2023-03-02T17:14:48.941Z"
   },
   {
    "duration": 473,
    "start_time": "2023-03-02T17:14:49.390Z"
   },
   {
    "duration": 27,
    "start_time": "2023-03-02T17:14:49.865Z"
   },
   {
    "duration": 89,
    "start_time": "2023-03-02T17:14:49.894Z"
   },
   {
    "duration": 378,
    "start_time": "2023-03-02T17:14:49.985Z"
   },
   {
    "duration": 17,
    "start_time": "2023-03-02T17:14:50.366Z"
   },
   {
    "duration": 40,
    "start_time": "2023-03-02T17:14:50.384Z"
   },
   {
    "duration": 72,
    "start_time": "2023-03-02T17:14:50.426Z"
   },
   {
    "duration": 22,
    "start_time": "2023-03-02T17:14:50.499Z"
   },
   {
    "duration": 350,
    "start_time": "2023-03-02T17:14:50.536Z"
   },
   {
    "duration": 24,
    "start_time": "2023-03-02T17:14:50.888Z"
   },
   {
    "duration": 46,
    "start_time": "2023-03-02T17:14:50.914Z"
   },
   {
    "duration": 58,
    "start_time": "2023-03-02T17:14:50.961Z"
   },
   {
    "duration": 70,
    "start_time": "2023-03-02T17:14:51.020Z"
   },
   {
    "duration": 71,
    "start_time": "2023-03-02T17:14:51.092Z"
   },
   {
    "duration": 763,
    "start_time": "2023-03-02T17:14:51.165Z"
   },
   {
    "duration": 387,
    "start_time": "2023-03-02T17:14:51.930Z"
   },
   {
    "duration": 238,
    "start_time": "2023-03-02T17:14:52.319Z"
   },
   {
    "duration": 113,
    "start_time": "2023-03-02T17:14:52.559Z"
   },
   {
    "duration": 4,
    "start_time": "2023-03-02T17:14:52.674Z"
   },
   {
    "duration": 23,
    "start_time": "2023-03-02T17:14:52.680Z"
   },
   {
    "duration": 18,
    "start_time": "2023-03-02T17:14:52.705Z"
   },
   {
    "duration": 24,
    "start_time": "2023-03-02T17:14:52.724Z"
   },
   {
    "duration": 5116,
    "start_time": "2023-03-02T17:14:52.752Z"
   },
   {
    "duration": 4,
    "start_time": "2023-03-02T17:14:57.871Z"
   },
   {
    "duration": 17864,
    "start_time": "2023-03-02T17:14:57.876Z"
   },
   {
    "duration": 1545,
    "start_time": "2023-03-02T17:15:15.744Z"
   },
   {
    "duration": 68,
    "start_time": "2023-03-02T17:15:17.291Z"
   },
   {
    "duration": 39,
    "start_time": "2023-03-02T17:15:17.361Z"
   },
   {
    "duration": 13,
    "start_time": "2023-03-02T17:15:17.402Z"
   },
   {
    "duration": 6,
    "start_time": "2023-03-02T17:15:17.417Z"
   },
   {
    "duration": 3,
    "start_time": "2023-03-02T17:15:17.437Z"
   },
   {
    "duration": 7,
    "start_time": "2023-03-02T17:15:17.441Z"
   },
   {
    "duration": 3554,
    "start_time": "2023-03-02T17:15:17.450Z"
   },
   {
    "duration": 46487,
    "start_time": "2023-03-02T17:15:21.005Z"
   },
   {
    "duration": 2,
    "start_time": "2023-03-02T17:16:07.494Z"
   },
   {
    "duration": 8,
    "start_time": "2023-03-02T17:16:07.498Z"
   },
   {
    "duration": 88,
    "start_time": "2023-03-02T17:16:07.507Z"
   },
   {
    "duration": 3,
    "start_time": "2023-03-02T17:16:07.597Z"
   },
   {
    "duration": 135361,
    "start_time": "2023-03-02T17:16:07.601Z"
   },
   {
    "duration": 0,
    "start_time": "2023-03-02T17:18:22.964Z"
   },
   {
    "duration": 0,
    "start_time": "2023-03-02T17:18:22.965Z"
   },
   {
    "duration": 0,
    "start_time": "2023-03-02T17:18:22.967Z"
   },
   {
    "duration": 0,
    "start_time": "2023-03-02T17:18:22.968Z"
   },
   {
    "duration": 0,
    "start_time": "2023-03-02T17:18:22.969Z"
   },
   {
    "duration": 0,
    "start_time": "2023-03-02T17:18:23.036Z"
   },
   {
    "duration": 0,
    "start_time": "2023-03-02T17:18:23.037Z"
   },
   {
    "duration": 0,
    "start_time": "2023-03-02T17:18:23.039Z"
   },
   {
    "duration": 0,
    "start_time": "2023-03-02T17:18:23.040Z"
   },
   {
    "duration": 0,
    "start_time": "2023-03-02T17:18:23.044Z"
   },
   {
    "duration": 1469,
    "start_time": "2023-03-02T17:18:37.017Z"
   },
   {
    "duration": 855,
    "start_time": "2023-03-02T17:18:38.489Z"
   },
   {
    "duration": 24,
    "start_time": "2023-03-02T17:18:39.346Z"
   },
   {
    "duration": 134,
    "start_time": "2023-03-02T17:18:39.371Z"
   },
   {
    "duration": 116,
    "start_time": "2023-03-02T17:18:39.507Z"
   },
   {
    "duration": 484,
    "start_time": "2023-03-02T17:18:39.625Z"
   },
   {
    "duration": 611,
    "start_time": "2023-03-02T17:18:40.110Z"
   },
   {
    "duration": 47,
    "start_time": "2023-03-02T17:18:40.722Z"
   },
   {
    "duration": 89,
    "start_time": "2023-03-02T17:18:40.770Z"
   },
   {
    "duration": 546,
    "start_time": "2023-03-02T17:18:40.861Z"
   },
   {
    "duration": 28,
    "start_time": "2023-03-02T17:18:41.409Z"
   },
   {
    "duration": 30,
    "start_time": "2023-03-02T17:18:41.439Z"
   },
   {
    "duration": 87,
    "start_time": "2023-03-02T17:18:41.470Z"
   },
   {
    "duration": 24,
    "start_time": "2023-03-02T17:18:41.561Z"
   },
   {
    "duration": 473,
    "start_time": "2023-03-02T17:18:41.587Z"
   },
   {
    "duration": 26,
    "start_time": "2023-03-02T17:18:42.061Z"
   },
   {
    "duration": 28,
    "start_time": "2023-03-02T17:18:42.089Z"
   },
   {
    "duration": 80,
    "start_time": "2023-03-02T17:18:42.119Z"
   },
   {
    "duration": 82,
    "start_time": "2023-03-02T17:18:42.201Z"
   },
   {
    "duration": 66,
    "start_time": "2023-03-02T17:18:42.285Z"
   },
   {
    "duration": 724,
    "start_time": "2023-03-02T17:18:42.352Z"
   },
   {
    "duration": 393,
    "start_time": "2023-03-02T17:18:43.077Z"
   },
   {
    "duration": 236,
    "start_time": "2023-03-02T17:18:43.472Z"
   },
   {
    "duration": 126,
    "start_time": "2023-03-02T17:18:43.710Z"
   },
   {
    "duration": 4,
    "start_time": "2023-03-02T17:18:43.838Z"
   },
   {
    "duration": 11,
    "start_time": "2023-03-02T17:18:43.844Z"
   },
   {
    "duration": 17,
    "start_time": "2023-03-02T17:18:43.856Z"
   },
   {
    "duration": 48,
    "start_time": "2023-03-02T17:18:43.875Z"
   },
   {
    "duration": 3369,
    "start_time": "2023-03-02T17:18:43.925Z"
   },
   {
    "duration": 6,
    "start_time": "2023-03-02T17:18:47.296Z"
   },
   {
    "duration": 20433,
    "start_time": "2023-03-02T17:18:47.304Z"
   },
   {
    "duration": 1655,
    "start_time": "2023-03-02T17:19:07.738Z"
   },
   {
    "duration": 56,
    "start_time": "2023-03-02T17:19:09.395Z"
   },
   {
    "duration": 36,
    "start_time": "2023-03-02T17:19:09.453Z"
   },
   {
    "duration": 17,
    "start_time": "2023-03-02T17:19:09.491Z"
   },
   {
    "duration": 27,
    "start_time": "2023-03-02T17:19:09.510Z"
   },
   {
    "duration": 3,
    "start_time": "2023-03-02T17:19:09.538Z"
   },
   {
    "duration": 14,
    "start_time": "2023-03-02T17:19:09.543Z"
   },
   {
    "duration": 3565,
    "start_time": "2023-03-02T17:19:09.559Z"
   },
   {
    "duration": 66389,
    "start_time": "2023-03-02T17:19:13.126Z"
   },
   {
    "duration": 2,
    "start_time": "2023-03-02T17:20:19.519Z"
   },
   {
    "duration": 14,
    "start_time": "2023-03-02T17:20:19.522Z"
   },
   {
    "duration": 106,
    "start_time": "2023-03-02T17:20:19.538Z"
   },
   {
    "duration": 3,
    "start_time": "2023-03-02T17:20:19.646Z"
   },
   {
    "duration": 836490,
    "start_time": "2023-03-02T17:20:19.650Z"
   },
   {
    "duration": 17304,
    "start_time": "2023-03-02T17:34:16.141Z"
   },
   {
    "duration": 290,
    "start_time": "2023-03-02T17:34:33.447Z"
   },
   {
    "duration": 596,
    "start_time": "2023-03-02T17:34:33.739Z"
   },
   {
    "duration": 15,
    "start_time": "2023-03-02T17:34:34.337Z"
   },
   {
    "duration": 96449,
    "start_time": "2023-03-02T17:34:34.355Z"
   },
   {
    "duration": 2283,
    "start_time": "2023-03-02T17:36:10.806Z"
   },
   {
    "duration": 40252,
    "start_time": "2023-03-02T17:36:13.091Z"
   },
   {
    "duration": 3108,
    "start_time": "2023-03-02T17:36:53.344Z"
   },
   {
    "duration": 3112,
    "start_time": "2023-03-02T17:36:56.454Z"
   },
   {
    "duration": 1251,
    "start_time": "2023-03-03T12:06:02.647Z"
   },
   {
    "duration": 1187,
    "start_time": "2023-03-03T12:06:03.900Z"
   },
   {
    "duration": 29,
    "start_time": "2023-03-03T12:06:05.089Z"
   },
   {
    "duration": 150,
    "start_time": "2023-03-03T12:06:05.122Z"
   },
   {
    "duration": 165,
    "start_time": "2023-03-03T12:06:05.274Z"
   },
   {
    "duration": 498,
    "start_time": "2023-03-03T12:06:05.441Z"
   },
   {
    "duration": 636,
    "start_time": "2023-03-03T12:06:05.940Z"
   },
   {
    "duration": 43,
    "start_time": "2023-03-03T12:06:06.579Z"
   },
   {
    "duration": 101,
    "start_time": "2023-03-03T12:06:06.625Z"
   },
   {
    "duration": 786,
    "start_time": "2023-03-03T12:06:06.728Z"
   },
   {
    "duration": 19,
    "start_time": "2023-03-03T12:06:07.516Z"
   },
   {
    "duration": 103,
    "start_time": "2023-03-03T12:06:07.537Z"
   },
   {
    "duration": 72,
    "start_time": "2023-03-03T12:06:07.642Z"
   },
   {
    "duration": 22,
    "start_time": "2023-03-03T12:06:07.718Z"
   },
   {
    "duration": 396,
    "start_time": "2023-03-03T12:06:07.741Z"
   },
   {
    "duration": 20,
    "start_time": "2023-03-03T12:06:08.138Z"
   },
   {
    "duration": 52,
    "start_time": "2023-03-03T12:06:08.160Z"
   },
   {
    "duration": 65,
    "start_time": "2023-03-03T12:06:08.213Z"
   },
   {
    "duration": 93,
    "start_time": "2023-03-03T12:06:08.279Z"
   },
   {
    "duration": 85,
    "start_time": "2023-03-03T12:06:08.374Z"
   },
   {
    "duration": 671,
    "start_time": "2023-03-03T12:06:08.461Z"
   },
   {
    "duration": 353,
    "start_time": "2023-03-03T12:06:09.133Z"
   },
   {
    "duration": 223,
    "start_time": "2023-03-03T12:06:09.488Z"
   },
   {
    "duration": 113,
    "start_time": "2023-03-03T12:06:09.713Z"
   },
   {
    "duration": 4,
    "start_time": "2023-03-03T12:06:09.828Z"
   },
   {
    "duration": 33,
    "start_time": "2023-03-03T12:06:09.834Z"
   },
   {
    "duration": 30,
    "start_time": "2023-03-03T12:06:09.868Z"
   },
   {
    "duration": 33,
    "start_time": "2023-03-03T12:06:09.904Z"
   },
   {
    "duration": 3013,
    "start_time": "2023-03-03T12:06:09.939Z"
   },
   {
    "duration": 5,
    "start_time": "2023-03-03T12:06:12.954Z"
   },
   {
    "duration": 55534,
    "start_time": "2023-03-03T12:06:12.960Z"
   },
   {
    "duration": 1464,
    "start_time": "2023-03-03T12:07:08.495Z"
   },
   {
    "duration": 62,
    "start_time": "2023-03-03T12:07:09.961Z"
   },
   {
    "duration": 29,
    "start_time": "2023-03-03T12:07:10.024Z"
   },
   {
    "duration": 14,
    "start_time": "2023-03-03T12:07:10.055Z"
   },
   {
    "duration": 9,
    "start_time": "2023-03-03T12:07:10.070Z"
   },
   {
    "duration": 25,
    "start_time": "2023-03-03T12:07:10.091Z"
   },
   {
    "duration": 8,
    "start_time": "2023-03-03T12:07:10.117Z"
   },
   {
    "duration": 3429,
    "start_time": "2023-03-03T12:07:10.126Z"
   },
   {
    "duration": 65062,
    "start_time": "2023-03-03T12:07:13.556Z"
   },
   {
    "duration": 2,
    "start_time": "2023-03-03T12:08:18.622Z"
   },
   {
    "duration": 12,
    "start_time": "2023-03-03T12:08:18.625Z"
   },
   {
    "duration": 102,
    "start_time": "2023-03-03T12:08:18.639Z"
   },
   {
    "duration": 3,
    "start_time": "2023-03-03T12:08:18.743Z"
   },
   {
    "duration": 0,
    "start_time": "2023-03-03T12:25:12.719Z"
   },
   {
    "duration": 0,
    "start_time": "2023-03-03T12:25:12.720Z"
   },
   {
    "duration": 0,
    "start_time": "2023-03-03T12:25:12.721Z"
   },
   {
    "duration": 0,
    "start_time": "2023-03-03T12:25:12.721Z"
   },
   {
    "duration": 0,
    "start_time": "2023-03-03T12:25:12.722Z"
   },
   {
    "duration": 0,
    "start_time": "2023-03-03T12:25:12.723Z"
   },
   {
    "duration": 0,
    "start_time": "2023-03-03T12:25:12.724Z"
   },
   {
    "duration": 0,
    "start_time": "2023-03-03T12:25:12.725Z"
   },
   {
    "duration": 0,
    "start_time": "2023-03-03T12:25:12.726Z"
   },
   {
    "duration": 0,
    "start_time": "2023-03-03T12:25:12.727Z"
   },
   {
    "duration": 3,
    "start_time": "2023-03-03T12:25:16.736Z"
   },
   {
    "duration": 1649,
    "start_time": "2023-05-20T21:33:29.813Z"
   },
   {
    "duration": 3377,
    "start_time": "2023-05-20T21:33:31.464Z"
   },
   {
    "duration": 26,
    "start_time": "2023-05-20T21:33:34.843Z"
   },
   {
    "duration": 142,
    "start_time": "2023-05-20T21:33:34.871Z"
   },
   {
    "duration": 135,
    "start_time": "2023-05-20T21:33:35.016Z"
   },
   {
    "duration": 507,
    "start_time": "2023-05-20T21:33:35.153Z"
   },
   {
    "duration": 593,
    "start_time": "2023-05-20T21:33:35.662Z"
   },
   {
    "duration": 34,
    "start_time": "2023-05-20T21:33:36.257Z"
   },
   {
    "duration": 81,
    "start_time": "2023-05-20T21:33:36.293Z"
   },
   {
    "duration": 720,
    "start_time": "2023-05-20T21:33:36.375Z"
   },
   {
    "duration": 29,
    "start_time": "2023-05-20T21:33:37.097Z"
   },
   {
    "duration": 113,
    "start_time": "2023-05-20T21:33:37.127Z"
   },
   {
    "duration": 83,
    "start_time": "2023-05-20T21:33:37.242Z"
   },
   {
    "duration": 31,
    "start_time": "2023-05-20T21:33:37.329Z"
   },
   {
    "duration": 386,
    "start_time": "2023-05-20T21:33:37.361Z"
   },
   {
    "duration": 23,
    "start_time": "2023-05-20T21:33:37.749Z"
   },
   {
    "duration": 51,
    "start_time": "2023-05-20T21:33:37.774Z"
   },
   {
    "duration": 68,
    "start_time": "2023-05-20T21:33:37.827Z"
   },
   {
    "duration": 82,
    "start_time": "2023-05-20T21:33:37.897Z"
   },
   {
    "duration": 78,
    "start_time": "2023-05-20T21:33:37.980Z"
   },
   {
    "duration": 718,
    "start_time": "2023-05-20T21:33:38.060Z"
   },
   {
    "duration": 374,
    "start_time": "2023-05-20T21:33:38.780Z"
   },
   {
    "duration": 220,
    "start_time": "2023-05-20T21:33:39.155Z"
   },
   {
    "duration": 122,
    "start_time": "2023-05-20T21:33:39.377Z"
   },
   {
    "duration": 4,
    "start_time": "2023-05-20T21:33:39.501Z"
   },
   {
    "duration": 12,
    "start_time": "2023-05-20T21:33:39.507Z"
   },
   {
    "duration": 5,
    "start_time": "2023-05-20T21:33:39.526Z"
   },
   {
    "duration": 5,
    "start_time": "2023-05-20T21:33:39.533Z"
   },
   {
    "duration": 4002,
    "start_time": "2023-05-20T21:33:39.540Z"
   },
   {
    "duration": 5,
    "start_time": "2023-05-20T21:33:43.544Z"
   },
   {
    "duration": 26879,
    "start_time": "2023-05-20T21:33:43.550Z"
   },
   {
    "duration": 1619,
    "start_time": "2023-05-20T21:34:10.432Z"
   },
   {
    "duration": 51,
    "start_time": "2023-05-20T21:34:12.053Z"
   },
   {
    "duration": 53,
    "start_time": "2023-05-20T21:34:12.106Z"
   },
   {
    "duration": 17,
    "start_time": "2023-05-20T21:34:12.161Z"
   },
   {
    "duration": 13,
    "start_time": "2023-05-20T21:34:12.180Z"
   },
   {
    "duration": 6,
    "start_time": "2023-05-20T21:34:12.195Z"
   },
   {
    "duration": 22,
    "start_time": "2023-05-20T21:34:12.203Z"
   },
   {
    "duration": 3923,
    "start_time": "2023-05-20T21:34:12.227Z"
   },
   {
    "duration": 70414,
    "start_time": "2023-05-20T21:34:16.153Z"
   },
   {
    "duration": 2,
    "start_time": "2023-05-20T21:35:26.572Z"
   },
   {
    "duration": 12,
    "start_time": "2023-05-20T21:35:26.575Z"
   },
   {
    "duration": 106,
    "start_time": "2023-05-20T21:35:26.589Z"
   },
   {
    "duration": 3,
    "start_time": "2023-05-20T21:35:26.697Z"
   },
   {
    "duration": 1908037,
    "start_time": "2023-05-20T21:35:26.702Z"
   },
   {
    "duration": 16395,
    "start_time": "2023-05-20T22:07:14.741Z"
   },
   {
    "duration": 106,
    "start_time": "2023-05-20T22:07:31.226Z"
   },
   {
    "duration": 586,
    "start_time": "2023-05-20T22:07:31.334Z"
   },
   {
    "duration": 15,
    "start_time": "2023-05-20T22:07:31.922Z"
   },
   {
    "duration": 96780,
    "start_time": "2023-05-20T22:07:31.938Z"
   },
   {
    "duration": 2277,
    "start_time": "2023-05-20T22:09:08.720Z"
   },
   {
    "duration": 1282948,
    "start_time": "2023-05-20T22:09:10.998Z"
   },
   {
    "duration": 2981,
    "start_time": "2023-05-20T22:30:33.948Z"
   },
   {
    "duration": 2899,
    "start_time": "2023-05-20T22:30:36.930Z"
   }
  ],
  "kernelspec": {
   "display_name": "Python 3 (ipykernel)",
   "language": "python",
   "name": "python3"
  },
  "language_info": {
   "codemirror_mode": {
    "name": "ipython",
    "version": 3
   },
   "file_extension": ".py",
   "mimetype": "text/x-python",
   "name": "python",
   "nbconvert_exporter": "python",
   "pygments_lexer": "ipython3",
   "version": "3.9.13"
  },
  "toc": {
   "base_numbering": 1,
   "nav_menu": {},
   "number_sections": true,
   "sideBar": true,
   "skip_h1_title": true,
   "title_cell": "Table of Contents",
   "title_sidebar": "Contents",
   "toc_cell": false,
   "toc_position": {},
   "toc_section_display": true,
   "toc_window_display": true
  }
 },
 "nbformat": 4,
 "nbformat_minor": 2
}
